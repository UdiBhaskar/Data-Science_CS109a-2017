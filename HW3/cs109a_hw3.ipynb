{
 "cells": [
  {
   "cell_type": "markdown",
   "metadata": {},
   "source": [
    "# CS 109A/STAT 121A/AC 209A/CSCI E-109A: Homework 3\n",
    "# Multiple Linear Regression, Subset Selection, Cross Validation\n",
    "\n",
    "**Harvard University**<br/>\n",
    "**Fall 2017**<br/>\n",
    "**Instructors**: Pavlos Protopapas, Kevin Rader, Rahul Dave, Margo Levine\n",
    "\n",
    "---\n",
    "\n",
    "### INSTRUCTIONS\n",
    "\n",
    "- To submit your assignment follow the instructions given in canvas.\n",
    "- Restart the kernel and run the whole notebook again before you submit. \n",
    "- Do not include your name(s) in the notebook if you are submitting as a group. \n",
    "- If you submit individually and you have worked with someone, please include the name of your [one] partner below. \n",
    "\n",
    "---"
   ]
  },
  {
   "cell_type": "markdown",
   "metadata": {
    "collapsed": true
   },
   "source": [
    "Your partner's name (if you submit separately):\n",
    "\n",
    "Enrollment Status (109A, 121A, 209A, or E109A):"
   ]
  },
  {
   "cell_type": "markdown",
   "metadata": {},
   "source": [
    "Import libraries:"
   ]
  },
  {
   "cell_type": "code",
   "execution_count": 1,
   "metadata": {
    "collapsed": true
   },
   "outputs": [],
   "source": [
    "import numpy as np\n",
    "import pandas as pd\n",
    "import matplotlib\n",
    "import matplotlib.pyplot as plt\n",
    "from sklearn.metrics import r2_score\n",
    "import statsmodels.api as sm\n",
    "from statsmodels.api import OLS\n",
    "from sklearn.preprocessing import PolynomialFeatures\n",
    "from sklearn.linear_model import Ridge\n",
    "from sklearn.linear_model import Lasso\n",
    "from sklearn.linear_model import RidgeCV\n",
    "from sklearn.linear_model import LassoCV\n",
    "%matplotlib inline"
   ]
  },
  {
   "cell_type": "markdown",
   "metadata": {},
   "source": [
    "# Forecasting Bike Sharing Usage\n",
    "\n",
    "In this homework, we will focus on multiple linear regression and will explore techniques for subset selection. The specific task is to build a regression model for a bike share system that can predict the total number of bike rentals in a given day, based on attributes about the day. Such a demand forecasting model would be useful in planning the number of bikes that need to be available in the system on any given day, and also in monitoring traffic in the city. The data for this problem was collected from the Capital Bikeshare program in Washington D.C. over two years.   \n",
    "\n",
    "The data set is provided in the files `Bikeshare_train.csv` and `Bikeshare_test.csv`, as separate training and test sets. Each row in these files contains 10 attributes describing a day and its weather:\n",
    "- season (1 = spring, 2 = summer, 3 = fall, 4 = winter)\n",
    "- month (1 through 12, with 1 denoting Jan)\n",
    "- holiday (1 = the day is a holiday, 0 = otherwise)\n",
    "- day_of_week (0 through 6, with 0 denoting Sunday)\n",
    "- workingday (1 = the day is neither a holiday or weekend, 0 = otherwise)\n",
    "- weather \n",
    "    - 1: Clear, Few clouds, Partly cloudy, Partly cloudy\n",
    "    - 2: Mist + Cloudy, Mist + Broken clouds, Mist + Few clouds, Mist\n",
    "    - 3: Light Snow, Light Rain + Thunderstorm + Scattered clouds, Light Rain + Scattered clouds\n",
    "    - 4: Heavy Rain + Ice Pallets + Thunderstorm + Mist, Snow + Fog \n",
    "- temp (temperature in Celsius)\n",
    "- atemp (apparent temperature, or relative outdoor temperature, in Celsius)\n",
    "- humidity (relative humidity)\n",
    "- windspeed (wind speed)\n",
    "\n",
    "and the last column 'count' contains the response variable, i.e. total number of bike rentals on the day.\n"
   ]
  },
  {
   "cell_type": "markdown",
   "metadata": {},
   "source": [
    "## Part (a): Data Exploration & Preprocessing\n",
    "\n",
    "As a first step, identify important characteristics of the data using suitable visualizations when necessary. Some of the questions you may ask include (but are not limited to):\n",
    "\n",
    "- How does the number of bike rentals vary between weekdays and weekends? \n",
    "- How about bike rentals on holidays?\n",
    "- What effect does the season have on the bike rentals on a given day?\n",
    "- Is the number of bike rentals lower than average when there is rain or snow?\n",
    "- How does temperature effect bike rentals?\n",
    "- Do any of the numeric attributes have a clear non-linear dependence with number of the bike rentals?\n",
    "\n"
   ]
  },
  {
   "cell_type": "code",
   "execution_count": 2,
   "metadata": {
    "collapsed": true
   },
   "outputs": [],
   "source": [
    "#your code here\n",
    "traindf = pd.read_csv('Bikeshare_train.csv')\n",
    "testdf = pd.read_csv('Bikeshare_test.csv')"
   ]
  },
  {
   "cell_type": "markdown",
   "metadata": {},
   "source": [
    "your answers here"
   ]
  },
  {
   "cell_type": "code",
   "execution_count": 3,
   "metadata": {
    "collapsed": false
   },
   "outputs": [],
   "source": [
    "traindf = traindf.drop('Unnamed: 0',axis = 1)"
   ]
  },
  {
   "cell_type": "code",
   "execution_count": 4,
   "metadata": {
    "collapsed": false,
    "scrolled": true
   },
   "outputs": [
    {
     "data": {
      "text/html": [
       "<div>\n",
       "<table border=\"1\" class=\"dataframe\">\n",
       "  <thead>\n",
       "    <tr style=\"text-align: right;\">\n",
       "      <th></th>\n",
       "      <th>Unnamed: 0</th>\n",
       "      <th>season</th>\n",
       "      <th>month</th>\n",
       "      <th>holiday</th>\n",
       "      <th>day_of_week</th>\n",
       "      <th>workingday</th>\n",
       "      <th>weather</th>\n",
       "      <th>temp</th>\n",
       "      <th>atemp</th>\n",
       "      <th>humidity</th>\n",
       "      <th>windspeed</th>\n",
       "      <th>count</th>\n",
       "    </tr>\n",
       "  </thead>\n",
       "  <tbody>\n",
       "    <tr>\n",
       "      <th>0</th>\n",
       "      <td>0</td>\n",
       "      <td>1.0</td>\n",
       "      <td>2.0</td>\n",
       "      <td>0.0</td>\n",
       "      <td>4.0</td>\n",
       "      <td>1.0</td>\n",
       "      <td>1.0</td>\n",
       "      <td>2.0</td>\n",
       "      <td>6.0</td>\n",
       "      <td>56.2083</td>\n",
       "      <td>0.194037</td>\n",
       "      <td>3830.0</td>\n",
       "    </tr>\n",
       "    <tr>\n",
       "      <th>1</th>\n",
       "      <td>1</td>\n",
       "      <td>1.0</td>\n",
       "      <td>12.0</td>\n",
       "      <td>0.0</td>\n",
       "      <td>4.0</td>\n",
       "      <td>1.0</td>\n",
       "      <td>2.0</td>\n",
       "      <td>1.0</td>\n",
       "      <td>3.0</td>\n",
       "      <td>65.2917</td>\n",
       "      <td>0.350133</td>\n",
       "      <td>2114.0</td>\n",
       "    </tr>\n",
       "    <tr>\n",
       "      <th>2</th>\n",
       "      <td>2</td>\n",
       "      <td>2.0</td>\n",
       "      <td>6.0</td>\n",
       "      <td>0.0</td>\n",
       "      <td>4.0</td>\n",
       "      <td>1.0</td>\n",
       "      <td>2.0</td>\n",
       "      <td>36.0</td>\n",
       "      <td>37.0</td>\n",
       "      <td>56.8333</td>\n",
       "      <td>0.149883</td>\n",
       "      <td>915.0</td>\n",
       "    </tr>\n",
       "    <tr>\n",
       "      <th>3</th>\n",
       "      <td>3</td>\n",
       "      <td>1.0</td>\n",
       "      <td>2.0</td>\n",
       "      <td>0.0</td>\n",
       "      <td>1.0</td>\n",
       "      <td>1.0</td>\n",
       "      <td>1.0</td>\n",
       "      <td>8.0</td>\n",
       "      <td>12.0</td>\n",
       "      <td>49.0833</td>\n",
       "      <td>0.268033</td>\n",
       "      <td>4322.0</td>\n",
       "    </tr>\n",
       "    <tr>\n",
       "      <th>4</th>\n",
       "      <td>4</td>\n",
       "      <td>2.0</td>\n",
       "      <td>5.0</td>\n",
       "      <td>0.0</td>\n",
       "      <td>0.0</td>\n",
       "      <td>0.0</td>\n",
       "      <td>1.0</td>\n",
       "      <td>28.0</td>\n",
       "      <td>29.0</td>\n",
       "      <td>69.7083</td>\n",
       "      <td>0.215171</td>\n",
       "      <td>6591.0</td>\n",
       "    </tr>\n",
       "  </tbody>\n",
       "</table>\n",
       "</div>"
      ],
      "text/plain": [
       "   Unnamed: 0  season  month  holiday  day_of_week  workingday  weather  temp  \\\n",
       "0           0     1.0    2.0      0.0          4.0         1.0      1.0   2.0   \n",
       "1           1     1.0   12.0      0.0          4.0         1.0      2.0   1.0   \n",
       "2           2     2.0    6.0      0.0          4.0         1.0      2.0  36.0   \n",
       "3           3     1.0    2.0      0.0          1.0         1.0      1.0   8.0   \n",
       "4           4     2.0    5.0      0.0          0.0         0.0      1.0  28.0   \n",
       "\n",
       "   atemp  humidity  windspeed   count  \n",
       "0    6.0   56.2083   0.194037  3830.0  \n",
       "1    3.0   65.2917   0.350133  2114.0  \n",
       "2   37.0   56.8333   0.149883   915.0  \n",
       "3   12.0   49.0833   0.268033  4322.0  \n",
       "4   29.0   69.7083   0.215171  6591.0  "
      ]
     },
     "execution_count": 4,
     "metadata": {},
     "output_type": "execute_result"
    }
   ],
   "source": [
    "testdf.head()"
   ]
  },
  {
   "cell_type": "code",
   "execution_count": 5,
   "metadata": {
    "collapsed": true
   },
   "outputs": [],
   "source": [
    "testdf = testdf.drop('Unnamed: 0',axis = 1)"
   ]
  },
  {
   "cell_type": "code",
   "execution_count": 6,
   "metadata": {
    "collapsed": false
   },
   "outputs": [
    {
     "data": {
      "text/html": [
       "<div>\n",
       "<table border=\"1\" class=\"dataframe\">\n",
       "  <thead>\n",
       "    <tr style=\"text-align: right;\">\n",
       "      <th></th>\n",
       "      <th>season</th>\n",
       "      <th>month</th>\n",
       "      <th>holiday</th>\n",
       "      <th>day_of_week</th>\n",
       "      <th>workingday</th>\n",
       "      <th>weather</th>\n",
       "      <th>temp</th>\n",
       "      <th>atemp</th>\n",
       "      <th>humidity</th>\n",
       "      <th>windspeed</th>\n",
       "      <th>count</th>\n",
       "    </tr>\n",
       "  </thead>\n",
       "  <tbody>\n",
       "    <tr>\n",
       "      <th>0</th>\n",
       "      <td>1.0</td>\n",
       "      <td>2.0</td>\n",
       "      <td>0.0</td>\n",
       "      <td>4.0</td>\n",
       "      <td>1.0</td>\n",
       "      <td>1.0</td>\n",
       "      <td>2.0</td>\n",
       "      <td>6.0</td>\n",
       "      <td>56.2083</td>\n",
       "      <td>0.194037</td>\n",
       "      <td>3830.0</td>\n",
       "    </tr>\n",
       "    <tr>\n",
       "      <th>1</th>\n",
       "      <td>1.0</td>\n",
       "      <td>12.0</td>\n",
       "      <td>0.0</td>\n",
       "      <td>4.0</td>\n",
       "      <td>1.0</td>\n",
       "      <td>2.0</td>\n",
       "      <td>1.0</td>\n",
       "      <td>3.0</td>\n",
       "      <td>65.2917</td>\n",
       "      <td>0.350133</td>\n",
       "      <td>2114.0</td>\n",
       "    </tr>\n",
       "    <tr>\n",
       "      <th>2</th>\n",
       "      <td>2.0</td>\n",
       "      <td>6.0</td>\n",
       "      <td>0.0</td>\n",
       "      <td>4.0</td>\n",
       "      <td>1.0</td>\n",
       "      <td>2.0</td>\n",
       "      <td>36.0</td>\n",
       "      <td>37.0</td>\n",
       "      <td>56.8333</td>\n",
       "      <td>0.149883</td>\n",
       "      <td>915.0</td>\n",
       "    </tr>\n",
       "    <tr>\n",
       "      <th>3</th>\n",
       "      <td>1.0</td>\n",
       "      <td>2.0</td>\n",
       "      <td>0.0</td>\n",
       "      <td>1.0</td>\n",
       "      <td>1.0</td>\n",
       "      <td>1.0</td>\n",
       "      <td>8.0</td>\n",
       "      <td>12.0</td>\n",
       "      <td>49.0833</td>\n",
       "      <td>0.268033</td>\n",
       "      <td>4322.0</td>\n",
       "    </tr>\n",
       "    <tr>\n",
       "      <th>4</th>\n",
       "      <td>2.0</td>\n",
       "      <td>5.0</td>\n",
       "      <td>0.0</td>\n",
       "      <td>0.0</td>\n",
       "      <td>0.0</td>\n",
       "      <td>1.0</td>\n",
       "      <td>28.0</td>\n",
       "      <td>29.0</td>\n",
       "      <td>69.7083</td>\n",
       "      <td>0.215171</td>\n",
       "      <td>6591.0</td>\n",
       "    </tr>\n",
       "  </tbody>\n",
       "</table>\n",
       "</div>"
      ],
      "text/plain": [
       "   season  month  holiday  day_of_week  workingday  weather  temp  atemp  \\\n",
       "0     1.0    2.0      0.0          4.0         1.0      1.0   2.0    6.0   \n",
       "1     1.0   12.0      0.0          4.0         1.0      2.0   1.0    3.0   \n",
       "2     2.0    6.0      0.0          4.0         1.0      2.0  36.0   37.0   \n",
       "3     1.0    2.0      0.0          1.0         1.0      1.0   8.0   12.0   \n",
       "4     2.0    5.0      0.0          0.0         0.0      1.0  28.0   29.0   \n",
       "\n",
       "   humidity  windspeed   count  \n",
       "0   56.2083   0.194037  3830.0  \n",
       "1   65.2917   0.350133  2114.0  \n",
       "2   56.8333   0.149883   915.0  \n",
       "3   49.0833   0.268033  4322.0  \n",
       "4   69.7083   0.215171  6591.0  "
      ]
     },
     "execution_count": 6,
     "metadata": {},
     "output_type": "execute_result"
    }
   ],
   "source": [
    "testdf.head()"
   ]
  },
  {
   "cell_type": "code",
   "execution_count": 7,
   "metadata": {
    "collapsed": true
   },
   "outputs": [],
   "source": [
    "import seaborn as sns"
   ]
  },
  {
   "cell_type": "code",
   "execution_count": 18,
   "metadata": {
    "collapsed": false
   },
   "outputs": [
    {
     "data": {
      "text/plain": [
       "[<matplotlib.text.Text at 0xdf2a828>,\n",
       " <matplotlib.text.Text at 0xe049f60>,\n",
       " <matplotlib.text.Text at 0xe379630>,\n",
       " <matplotlib.text.Text at 0xe379c88>,\n",
       " <matplotlib.text.Text at 0xe386320>,\n",
       " <matplotlib.text.Text at 0xe386978>,\n",
       " <matplotlib.text.Text at 0xe386fd0>]"
      ]
     },
     "execution_count": 18,
     "metadata": {},
     "output_type": "execute_result"
    },
    {
     "data": {
      "image/png": "[encoded data removed]",
      "text/plain": [
       "<matplotlib.figure.Figure at 0xd74c0f0>"
      ]
     },
     "metadata": {},
     "output_type": "display_data"
    }
   ],
   "source": [
    "ax = sns.barplot(x= 'day_of_week',y = 'count',data = traindf)\n",
    "ax.set_xticklabels('Sun-Mon-Tue-Wed-Thu-Fri-Sat'.split('-'))"
   ]
  },
  {
   "cell_type": "code",
   "execution_count": 26,
   "metadata": {
    "collapsed": false
   },
   "outputs": [
    {
     "data": {
      "text/plain": [
       "[<matplotlib.text.Text at 0xeaf4a20>, <matplotlib.text.Text at 0xe517cf8>]"
      ]
     },
     "execution_count": 26,
     "metadata": {},
     "output_type": "execute_result"
    },
    {
     "data": {
      "image/png": "[encoded data removed]",
      "text/plain": [
       "<matplotlib.figure.Figure at 0xe3b46d8>"
      ]
     },
     "metadata": {},
     "output_type": "display_data"
    }
   ],
   "source": [
    "ax = sns.barplot(x= 'workingday',y = 'count',data = traindf)\n",
    "ax.set_xticklabels('Holiday-NotHoliday'.split('-'))\n",
    "#Not holyday is Having Higher"
   ]
  },
  {
   "cell_type": "code",
   "execution_count": 24,
   "metadata": {
    "collapsed": false
   },
   "outputs": [
    {
     "data": {
      "text/plain": [
       "workingday       \n",
       "0.0         count     109.000000\n",
       "            mean     4461.073394\n",
       "            std      2144.505359\n",
       "            min       605.000000\n",
       "            25%      2732.000000\n",
       "            50%      4660.000000\n",
       "            75%      6041.000000\n",
       "            max      8714.000000\n",
       "1.0         count     222.000000\n",
       "            mean     4665.896396\n",
       "            std      1825.229911\n",
       "            min       431.000000\n",
       "            25%      3718.500000\n",
       "            50%      4621.000000\n",
       "            75%      5873.750000\n",
       "            max      8167.000000\n",
       "Name: count, dtype: float64"
      ]
     },
     "execution_count": 24,
     "metadata": {},
     "output_type": "execute_result"
    }
   ],
   "source": [
    "traindf.groupby('workingday').describe()['count']"
   ]
  },
  {
   "cell_type": "code",
   "execution_count": 42,
   "metadata": {
    "collapsed": false
   },
   "outputs": [
    {
     "data": {
      "text/plain": [
       "<matplotlib.legend.Legend at 0x11249048>"
      ]
     },
     "execution_count": 42,
     "metadata": {},
     "output_type": "execute_result"
    },
    {
     "data": {
      "image/png": "[encoded data removed]",
      "text/plain": [
       "<matplotlib.figure.Figure at 0x110cce80>"
      ]
     },
     "metadata": {},
     "output_type": "display_data"
    }
   ],
   "source": [
    "lables = 'Holiday-NotHoliday'.split('-')\n",
    "for g, group in traindf.groupby('workingday'):\n",
    "    ax = group['count'].plot(kind='hist',alpha=0.4,label = lables[int(g)])\n",
    "ax.legend(loc='best')"
   ]
  },
  {
   "cell_type": "code",
   "execution_count": 49,
   "metadata": {
    "collapsed": false
   },
   "outputs": [
    {
     "data": {
      "image/png": "[encoded data removed]",
      "text/plain": [
       "<matplotlib.figure.Figure at 0x11827588>"
      ]
     },
     "metadata": {},
     "output_type": "display_data"
    }
   ],
   "source": [
    "label = 'spring=summer=fall=winter'.split('=')\n",
    "fig,ax = plt.subplots(2,2,figsize=(15,10))\n",
    "ax = ax.ravel()\n",
    "for g, group in traindf.groupby('season'):\n",
    "    i = int(g) - 1\n",
    "    group['count'].plot(kind='hist',ax=ax[i],alpha=0.4)\n",
    "    ax[i].set_title(label[i])\n",
    "    #ax[int(g)] = group['count'].plot(kind='hist',alpha=0.4)#,#label = lables[int(g)])\n",
    "#ax.legend(loc='best')"
   ]
  },
  {
   "cell_type": "code",
   "execution_count": 8,
   "metadata": {
    "collapsed": false
   },
   "outputs": [],
   "source": [
    "traindf['rain/snow'] = traindf['weather'].apply(lambda x: 1 if int(x) in [3,4] else 0)\n",
    "testdf['rain/snow'] = testdf['weather'].apply(lambda x: 1 if int(x) in [3,4] else 0)"
   ]
  },
  {
   "cell_type": "code",
   "execution_count": 54,
   "metadata": {
    "collapsed": false,
    "scrolled": true
   },
   "outputs": [
    {
     "data": {
      "text/plain": [
       "[<matplotlib.text.Text at 0x1091ed68>, <matplotlib.text.Text at 0x1094b198>]"
      ]
     },
     "execution_count": 54,
     "metadata": {},
     "output_type": "execute_result"
    },
    {
     "data": {
      "image/png": "[encoded data removed]",
      "text/plain": [
       "<matplotlib.figure.Figure at 0x110a69e8>"
      ]
     },
     "metadata": {},
     "output_type": "display_data"
    }
   ],
   "source": [
    "ax = sns.barplot(x= 'rain/snow',y = 'count',data = traindf)\n",
    "ax.set_xticklabels('NoRain-Rain'.split('-'))"
   ]
  },
  {
   "cell_type": "code",
   "execution_count": 58,
   "metadata": {
    "collapsed": false
   },
   "outputs": [
    {
     "data": {
      "text/html": [
       "<div>\n",
       "<table border=\"1\" class=\"dataframe\">\n",
       "  <thead>\n",
       "    <tr style=\"text-align: right;\">\n",
       "      <th></th>\n",
       "      <th></th>\n",
       "      <th>count</th>\n",
       "    </tr>\n",
       "    <tr>\n",
       "      <th>rain/snow</th>\n",
       "      <th></th>\n",
       "      <th></th>\n",
       "    </tr>\n",
       "  </thead>\n",
       "  <tbody>\n",
       "    <tr>\n",
       "      <th rowspan=\"8\" valign=\"top\">0</th>\n",
       "      <th>count</th>\n",
       "      <td>321.000000</td>\n",
       "    </tr>\n",
       "    <tr>\n",
       "      <th>mean</th>\n",
       "      <td>4687.613707</td>\n",
       "    </tr>\n",
       "    <tr>\n",
       "      <th>std</th>\n",
       "      <td>1886.625924</td>\n",
       "    </tr>\n",
       "    <tr>\n",
       "      <th>min</th>\n",
       "      <td>431.000000</td>\n",
       "    </tr>\n",
       "    <tr>\n",
       "      <th>25%</th>\n",
       "      <td>3620.000000</td>\n",
       "    </tr>\n",
       "    <tr>\n",
       "      <th>50%</th>\n",
       "      <td>4687.000000</td>\n",
       "    </tr>\n",
       "    <tr>\n",
       "      <th>75%</th>\n",
       "      <td>6034.000000</td>\n",
       "    </tr>\n",
       "    <tr>\n",
       "      <th>max</th>\n",
       "      <td>8714.000000</td>\n",
       "    </tr>\n",
       "    <tr>\n",
       "      <th rowspan=\"8\" valign=\"top\">1</th>\n",
       "      <th>count</th>\n",
       "      <td>10.000000</td>\n",
       "    </tr>\n",
       "    <tr>\n",
       "      <th>mean</th>\n",
       "      <td>1736.200000</td>\n",
       "    </tr>\n",
       "    <tr>\n",
       "      <th>std</th>\n",
       "      <td>1179.971544</td>\n",
       "    </tr>\n",
       "    <tr>\n",
       "      <th>min</th>\n",
       "      <td>506.000000</td>\n",
       "    </tr>\n",
       "    <tr>\n",
       "      <th>25%</th>\n",
       "      <td>853.000000</td>\n",
       "    </tr>\n",
       "    <tr>\n",
       "      <th>50%</th>\n",
       "      <td>1646.000000</td>\n",
       "    </tr>\n",
       "    <tr>\n",
       "      <th>75%</th>\n",
       "      <td>1951.250000</td>\n",
       "    </tr>\n",
       "    <tr>\n",
       "      <th>max</th>\n",
       "      <td>4459.000000</td>\n",
       "    </tr>\n",
       "  </tbody>\n",
       "</table>\n",
       "</div>"
      ],
      "text/plain": [
       "                       count\n",
       "rain/snow                   \n",
       "0         count   321.000000\n",
       "          mean   4687.613707\n",
       "          std    1886.625924\n",
       "          min     431.000000\n",
       "          25%    3620.000000\n",
       "          50%    4687.000000\n",
       "          75%    6034.000000\n",
       "          max    8714.000000\n",
       "1         count    10.000000\n",
       "          mean   1736.200000\n",
       "          std    1179.971544\n",
       "          min     506.000000\n",
       "          25%     853.000000\n",
       "          50%    1646.000000\n",
       "          75%    1951.250000\n",
       "          max    4459.000000"
      ]
     },
     "execution_count": 58,
     "metadata": {},
     "output_type": "execute_result"
    }
   ],
   "source": [
    "traindf.groupby('rain/snow')[['count']].describe()"
   ]
  },
  {
   "cell_type": "code",
   "execution_count": 60,
   "metadata": {
    "collapsed": false,
    "scrolled": true
   },
   "outputs": [
    {
     "data": {
      "text/plain": [
       "<matplotlib.collections.PathCollection at 0x119c0e80>"
      ]
     },
     "execution_count": 60,
     "metadata": {},
     "output_type": "execute_result"
    },
    {
     "data": {
      "image/png": "[encoded data removed]",
      "text/plain": [
       "<matplotlib.figure.Figure at 0x11f11e48>"
      ]
     },
     "metadata": {},
     "output_type": "display_data"
    }
   ],
   "source": [
    "plt.ylabel('Count of No. of Rental')\n",
    "plt.xlabel('Temperature')\n",
    "plt.scatter(traindf['temp'].values, traindf['count'].values, alpha=0.4 , c='r')"
   ]
  },
  {
   "cell_type": "code",
   "execution_count": 63,
   "metadata": {
    "collapsed": false,
    "scrolled": true
   },
   "outputs": [
    {
     "data": {
      "text/plain": [
       "<seaborn.axisgrid.PairGrid at 0x1d62abe0>"
      ]
     },
     "execution_count": 63,
     "metadata": {},
     "output_type": "execute_result"
    },
    {
     "data": {
      "image/png": "[encoded data removed]",
      "text/plain": [
       "<matplotlib.figure.Figure at 0x1d7dbfd0>"
      ]
     },
     "metadata": {},
     "output_type": "display_data"
    }
   ],
   "source": [
    "sns.pairplot(traindf[['weather', 'temp', 'atemp', 'humidity', 'windspeed', 'count']])"
   ]
  },
  {
   "cell_type": "markdown",
   "metadata": {},
   "source": [
    "1. How does the number of bike rentals vary between weekdays and weekends?  \n",
    "     1a. The distributions seem comparable. There is a smaller number of samples from the weekends and thus outliers carry more          weight in the distribution.\n",
    "2. How about bike rentals on holidays?  \n",
    "     2a.Lower numbers on holidays. More rentals on not-holidays  \n",
    "3. What effect does the season have on the bike rentals on a given day?  \n",
    "     3a.Fall is high frequency of high number of rentals spring is lower no of rentals. \n",
    "4. Is the number of bike rentals lower than average when there is rain or snow?  \n",
    "     4a. yes\n",
    "5. How does temperature effect bike rentals?   \n",
    "    5a. a positive correlation between temp and number of rentals\n",
    "    \n",
    "6. Do any of the numeric attributes have a clear non-linear dependence with number of the bike rentals?  \n",
    "    6a. Temp,Humidity and count appear to have some sort of dependence."
   ]
  },
  {
   "cell_type": "code",
   "execution_count": null,
   "metadata": {
    "collapsed": false
   },
   "outputs": [],
   "source": []
  },
  {
   "cell_type": "markdown",
   "metadata": {},
   "source": [
    "We next require you to pre-process the categorical and numerical attributes in the data set:\n",
    "\n",
    "- Notice that this data set contains categorical attributes with two or more categories. **Why can't they be directly used as predictors?** Convert these categorical attributes into multiple binary attributes using one-hot encoding: in the place of every categorical attribute $x_j$ that has categories $1, \\ldots, K_j$, introduce $K_j-1$ binary predictors $x_{j1}, \\ldots, x_{j,K_j-1}$ where $x_{jk}$ is 1 whenever $x_j = k$ and 0 otherwise. \n",
    "** Why is it okay to not have a binary column for the $K_j$-th category? **\n",
    "\n",
    "- Since the attributes are in different scales, it is a good practice to standardize the continuous predictors, i.e. to scale each continuous predictor to have zero mean and a standard deviation of 1. This can be done by applying the following transform to each continuous-valued predictor $j$:\n",
    "$\\hat{x}_{ij} = (x_{ij} - \\bar{x}_j) / s_j$, where $\\bar{x}_j$ and $s_j$ are the sample mean and sample standard deviation (SD) of predictor $j$ in the training set. We emphasize that the mean and SD values used for standardization must be estimated using only the training set observations, while the transform is applied to both the training and test sets. \n",
    "** Why shouldn't we include the test set observations in computing the mean and SD? **\n",
    "\n",
    "- Provide a table of the summary statistics of the new attributes (`pd.describe()' function will help).\n",
    "\n",
    "*Hint:* You may use the `pd.get_dummies` function to convert a categorical attribute in a data frame to one-hot encoding. This function creates $K$ binary columns for an attribute with $K$ categories. We suggest that you delete the last (or first) binary column generated by this function.\n",
    "\n",
    "**Note:** We shall use the term \"attribute\" to refer to a categorical column in the data set, and the term \"predictor\" to refer to the individual binary columns resulting out of one-hot encoding."
   ]
  },
  {
   "cell_type": "code",
   "execution_count": 9,
   "metadata": {
    "collapsed": false
   },
   "outputs": [
    {
     "name": "stdout",
     "output_type": "stream",
     "text": [
      "<class 'pandas.core.frame.DataFrame'>\n",
      "RangeIndex: 331 entries, 0 to 330\n",
      "Data columns (total 12 columns):\n",
      "season         331 non-null float64\n",
      "month          331 non-null float64\n",
      "holiday        331 non-null float64\n",
      "day_of_week    331 non-null float64\n",
      "workingday     331 non-null float64\n",
      "weather        331 non-null float64\n",
      "temp           331 non-null float64\n",
      "atemp          331 non-null float64\n",
      "humidity       331 non-null float64\n",
      "windspeed      331 non-null float64\n",
      "count          331 non-null float64\n",
      "rain/snow      331 non-null int64\n",
      "dtypes: float64(11), int64(1)\n",
      "memory usage: 31.1 KB\n"
     ]
    }
   ],
   "source": [
    "# your code here\n",
    "traindf.info()"
   ]
  },
  {
   "cell_type": "code",
   "execution_count": 10,
   "metadata": {
    "collapsed": false
   },
   "outputs": [
    {
     "data": {
      "text/plain": [
       "Index([u'season', u'month', u'holiday', u'day_of_week', u'workingday',\n",
       "       u'weather', u'temp', u'atemp', u'humidity', u'windspeed', u'count',\n",
       "       u'rain/snow'],\n",
       "      dtype='object')"
      ]
     },
     "execution_count": 10,
     "metadata": {},
     "output_type": "execute_result"
    }
   ],
   "source": [
    "traindf.columns"
   ]
  },
  {
   "cell_type": "code",
   "execution_count": 11,
   "metadata": {
    "collapsed": true
   },
   "outputs": [],
   "source": [
    "category_columns = ['season','month','day_of_week','weather']\n",
    "non_category_columns = ['holiday','workingday','temp','atemp','humidity','windspeed','count']"
   ]
  },
  {
   "cell_type": "code",
   "execution_count": 12,
   "metadata": {
    "collapsed": false
   },
   "outputs": [],
   "source": [
    "traindf = pd.get_dummies(traindf, columns=category_columns, drop_first=True)\n",
    "testdf = pd.get_dummies(testdf, columns=category_columns, drop_first=True)"
   ]
  },
  {
   "cell_type": "code",
   "execution_count": 13,
   "metadata": {
    "collapsed": false
   },
   "outputs": [
    {
     "data": {
      "text/html": [
       "<div>\n",
       "<table border=\"1\" class=\"dataframe\">\n",
       "  <thead>\n",
       "    <tr style=\"text-align: right;\">\n",
       "      <th></th>\n",
       "      <th>holiday</th>\n",
       "      <th>workingday</th>\n",
       "      <th>temp</th>\n",
       "      <th>atemp</th>\n",
       "      <th>humidity</th>\n",
       "      <th>windspeed</th>\n",
       "      <th>count</th>\n",
       "      <th>season_2.0</th>\n",
       "      <th>season_3.0</th>\n",
       "      <th>season_4.0</th>\n",
       "      <th>...</th>\n",
       "      <th>month_11.0</th>\n",
       "      <th>month_12.0</th>\n",
       "      <th>day_of_week_1.0</th>\n",
       "      <th>day_of_week_2.0</th>\n",
       "      <th>day_of_week_3.0</th>\n",
       "      <th>day_of_week_4.0</th>\n",
       "      <th>day_of_week_5.0</th>\n",
       "      <th>day_of_week_6.0</th>\n",
       "      <th>weather_2.0</th>\n",
       "      <th>weather_3.0</th>\n",
       "    </tr>\n",
       "  </thead>\n",
       "  <tbody>\n",
       "    <tr>\n",
       "      <th>0</th>\n",
       "      <td>0.0</td>\n",
       "      <td>1.0</td>\n",
       "      <td>24.0</td>\n",
       "      <td>26.0</td>\n",
       "      <td>76.5833</td>\n",
       "      <td>0.118167</td>\n",
       "      <td>6073.0</td>\n",
       "      <td>1.0</td>\n",
       "      <td>0.0</td>\n",
       "      <td>0.0</td>\n",
       "      <td>...</td>\n",
       "      <td>0.0</td>\n",
       "      <td>0.0</td>\n",
       "      <td>0.0</td>\n",
       "      <td>1.0</td>\n",
       "      <td>0.0</td>\n",
       "      <td>0.0</td>\n",
       "      <td>0.0</td>\n",
       "      <td>0.0</td>\n",
       "      <td>1.0</td>\n",
       "      <td>0.0</td>\n",
       "    </tr>\n",
       "    <tr>\n",
       "      <th>1</th>\n",
       "      <td>0.0</td>\n",
       "      <td>1.0</td>\n",
       "      <td>15.0</td>\n",
       "      <td>19.0</td>\n",
       "      <td>73.3750</td>\n",
       "      <td>0.174129</td>\n",
       "      <td>6606.0</td>\n",
       "      <td>0.0</td>\n",
       "      <td>0.0</td>\n",
       "      <td>1.0</td>\n",
       "      <td>...</td>\n",
       "      <td>0.0</td>\n",
       "      <td>1.0</td>\n",
       "      <td>0.0</td>\n",
       "      <td>1.0</td>\n",
       "      <td>0.0</td>\n",
       "      <td>0.0</td>\n",
       "      <td>0.0</td>\n",
       "      <td>0.0</td>\n",
       "      <td>0.0</td>\n",
       "      <td>0.0</td>\n",
       "    </tr>\n",
       "    <tr>\n",
       "      <th>2</th>\n",
       "      <td>0.0</td>\n",
       "      <td>1.0</td>\n",
       "      <td>26.0</td>\n",
       "      <td>28.0</td>\n",
       "      <td>56.9583</td>\n",
       "      <td>0.253733</td>\n",
       "      <td>7363.0</td>\n",
       "      <td>1.0</td>\n",
       "      <td>0.0</td>\n",
       "      <td>0.0</td>\n",
       "      <td>...</td>\n",
       "      <td>0.0</td>\n",
       "      <td>0.0</td>\n",
       "      <td>0.0</td>\n",
       "      <td>0.0</td>\n",
       "      <td>0.0</td>\n",
       "      <td>1.0</td>\n",
       "      <td>0.0</td>\n",
       "      <td>0.0</td>\n",
       "      <td>0.0</td>\n",
       "      <td>0.0</td>\n",
       "    </tr>\n",
       "    <tr>\n",
       "      <th>3</th>\n",
       "      <td>0.0</td>\n",
       "      <td>0.0</td>\n",
       "      <td>0.0</td>\n",
       "      <td>4.0</td>\n",
       "      <td>58.6250</td>\n",
       "      <td>0.169779</td>\n",
       "      <td>2431.0</td>\n",
       "      <td>0.0</td>\n",
       "      <td>0.0</td>\n",
       "      <td>1.0</td>\n",
       "      <td>...</td>\n",
       "      <td>0.0</td>\n",
       "      <td>1.0</td>\n",
       "      <td>0.0</td>\n",
       "      <td>0.0</td>\n",
       "      <td>0.0</td>\n",
       "      <td>0.0</td>\n",
       "      <td>0.0</td>\n",
       "      <td>0.0</td>\n",
       "      <td>0.0</td>\n",
       "      <td>0.0</td>\n",
       "    </tr>\n",
       "    <tr>\n",
       "      <th>4</th>\n",
       "      <td>0.0</td>\n",
       "      <td>1.0</td>\n",
       "      <td>23.0</td>\n",
       "      <td>23.0</td>\n",
       "      <td>91.7083</td>\n",
       "      <td>0.097021</td>\n",
       "      <td>1996.0</td>\n",
       "      <td>0.0</td>\n",
       "      <td>1.0</td>\n",
       "      <td>0.0</td>\n",
       "      <td>...</td>\n",
       "      <td>0.0</td>\n",
       "      <td>0.0</td>\n",
       "      <td>0.0</td>\n",
       "      <td>0.0</td>\n",
       "      <td>1.0</td>\n",
       "      <td>0.0</td>\n",
       "      <td>0.0</td>\n",
       "      <td>0.0</td>\n",
       "      <td>0.0</td>\n",
       "      <td>1.0</td>\n",
       "    </tr>\n",
       "  </tbody>\n",
       "</table>\n",
       "<p>5 rows × 29 columns</p>\n",
       "</div>"
      ],
      "text/plain": [
       "   holiday  workingday  temp  atemp  humidity  windspeed   count  season_2.0  \\\n",
       "0      0.0         1.0  24.0   26.0   76.5833   0.118167  6073.0         1.0   \n",
       "1      0.0         1.0  15.0   19.0   73.3750   0.174129  6606.0         0.0   \n",
       "2      0.0         1.0  26.0   28.0   56.9583   0.253733  7363.0         1.0   \n",
       "3      0.0         0.0   0.0    4.0   58.6250   0.169779  2431.0         0.0   \n",
       "4      0.0         1.0  23.0   23.0   91.7083   0.097021  1996.0         0.0   \n",
       "\n",
       "   season_3.0  season_4.0     ...       month_11.0  month_12.0  \\\n",
       "0         0.0         0.0     ...              0.0         0.0   \n",
       "1         0.0         1.0     ...              0.0         1.0   \n",
       "2         0.0         0.0     ...              0.0         0.0   \n",
       "3         0.0         1.0     ...              0.0         1.0   \n",
       "4         1.0         0.0     ...              0.0         0.0   \n",
       "\n",
       "   day_of_week_1.0  day_of_week_2.0  day_of_week_3.0  day_of_week_4.0  \\\n",
       "0              0.0              1.0              0.0              0.0   \n",
       "1              0.0              1.0              0.0              0.0   \n",
       "2              0.0              0.0              0.0              1.0   \n",
       "3              0.0              0.0              0.0              0.0   \n",
       "4              0.0              0.0              1.0              0.0   \n",
       "\n",
       "   day_of_week_5.0  day_of_week_6.0  weather_2.0  weather_3.0  \n",
       "0              0.0              0.0          1.0          0.0  \n",
       "1              0.0              0.0          0.0          0.0  \n",
       "2              0.0              0.0          0.0          0.0  \n",
       "3              0.0              0.0          0.0          0.0  \n",
       "4              0.0              0.0          0.0          1.0  \n",
       "\n",
       "[5 rows x 29 columns]"
      ]
     },
     "execution_count": 13,
     "metadata": {},
     "output_type": "execute_result"
    }
   ],
   "source": [
    "traindf = traindf.drop('rain/snow',axis = 1)\n",
    "testdf = testdf.drop('rain/snow',axis = 1)\n",
    "traindf.head()"
   ]
  },
  {
   "cell_type": "code",
   "execution_count": 14,
   "metadata": {
    "collapsed": true
   },
   "outputs": [],
   "source": [
    "numerical_columns = ['temp', 'atemp', 'humidity', 'windspeed']"
   ]
  },
  {
   "cell_type": "code",
   "execution_count": 15,
   "metadata": {
    "collapsed": false
   },
   "outputs": [
    {
     "data": {
      "text/plain": [
       "temp         17.018127\n",
       "atemp        19.543807\n",
       "humidity     63.385776\n",
       "windspeed     0.190833\n",
       "dtype: float64"
      ]
     },
     "execution_count": 15,
     "metadata": {},
     "output_type": "execute_result"
    }
   ],
   "source": [
    "mean_traindf = traindf[numerical_columns].mean()\n",
    "std_traindf = traindf[numerical_columns].std()\n",
    "mean_traindf"
   ]
  },
  {
   "cell_type": "code",
   "execution_count": 16,
   "metadata": {
    "collapsed": false
   },
   "outputs": [],
   "source": [
    "traindf[numerical_columns] = (traindf[numerical_columns] - mean_traindf)/std_traindf\n",
    "testdf[numerical_columns] = (testdf[numerical_columns] - mean_traindf)/std_traindf"
   ]
  },
  {
   "cell_type": "code",
   "execution_count": 17,
   "metadata": {
    "collapsed": false
   },
   "outputs": [
    {
     "data": {
      "text/html": [
       "<div>\n",
       "<table border=\"1\" class=\"dataframe\">\n",
       "  <thead>\n",
       "    <tr style=\"text-align: right;\">\n",
       "      <th></th>\n",
       "      <th>holiday</th>\n",
       "      <th>workingday</th>\n",
       "      <th>temp</th>\n",
       "      <th>atemp</th>\n",
       "      <th>humidity</th>\n",
       "      <th>windspeed</th>\n",
       "      <th>count</th>\n",
       "      <th>season_2.0</th>\n",
       "      <th>season_3.0</th>\n",
       "      <th>season_4.0</th>\n",
       "      <th>...</th>\n",
       "      <th>month_11.0</th>\n",
       "      <th>month_12.0</th>\n",
       "      <th>day_of_week_1.0</th>\n",
       "      <th>day_of_week_2.0</th>\n",
       "      <th>day_of_week_3.0</th>\n",
       "      <th>day_of_week_4.0</th>\n",
       "      <th>day_of_week_5.0</th>\n",
       "      <th>day_of_week_6.0</th>\n",
       "      <th>weather_2.0</th>\n",
       "      <th>weather_3.0</th>\n",
       "    </tr>\n",
       "  </thead>\n",
       "  <tbody>\n",
       "    <tr>\n",
       "      <th>0</th>\n",
       "      <td>0.0</td>\n",
       "      <td>1.0</td>\n",
       "      <td>0.623798</td>\n",
       "      <td>0.650106</td>\n",
       "      <td>0.920664</td>\n",
       "      <td>-0.928758</td>\n",
       "      <td>6073.0</td>\n",
       "      <td>1.0</td>\n",
       "      <td>0.0</td>\n",
       "      <td>0.0</td>\n",
       "      <td>...</td>\n",
       "      <td>0.0</td>\n",
       "      <td>0.0</td>\n",
       "      <td>0.0</td>\n",
       "      <td>1.0</td>\n",
       "      <td>0.0</td>\n",
       "      <td>0.0</td>\n",
       "      <td>0.0</td>\n",
       "      <td>0.0</td>\n",
       "      <td>1.0</td>\n",
       "      <td>0.0</td>\n",
       "    </tr>\n",
       "    <tr>\n",
       "      <th>1</th>\n",
       "      <td>0.0</td>\n",
       "      <td>1.0</td>\n",
       "      <td>-0.180310</td>\n",
       "      <td>-0.054759</td>\n",
       "      <td>0.696852</td>\n",
       "      <td>-0.213502</td>\n",
       "      <td>6606.0</td>\n",
       "      <td>0.0</td>\n",
       "      <td>0.0</td>\n",
       "      <td>1.0</td>\n",
       "      <td>...</td>\n",
       "      <td>0.0</td>\n",
       "      <td>1.0</td>\n",
       "      <td>0.0</td>\n",
       "      <td>1.0</td>\n",
       "      <td>0.0</td>\n",
       "      <td>0.0</td>\n",
       "      <td>0.0</td>\n",
       "      <td>0.0</td>\n",
       "      <td>0.0</td>\n",
       "      <td>0.0</td>\n",
       "    </tr>\n",
       "    <tr>\n",
       "      <th>2</th>\n",
       "      <td>0.0</td>\n",
       "      <td>1.0</td>\n",
       "      <td>0.802489</td>\n",
       "      <td>0.851495</td>\n",
       "      <td>-0.448383</td>\n",
       "      <td>0.803926</td>\n",
       "      <td>7363.0</td>\n",
       "      <td>1.0</td>\n",
       "      <td>0.0</td>\n",
       "      <td>0.0</td>\n",
       "      <td>...</td>\n",
       "      <td>0.0</td>\n",
       "      <td>0.0</td>\n",
       "      <td>0.0</td>\n",
       "      <td>0.0</td>\n",
       "      <td>0.0</td>\n",
       "      <td>1.0</td>\n",
       "      <td>0.0</td>\n",
       "      <td>0.0</td>\n",
       "      <td>0.0</td>\n",
       "      <td>0.0</td>\n",
       "    </tr>\n",
       "    <tr>\n",
       "      <th>3</th>\n",
       "      <td>0.0</td>\n",
       "      <td>0.0</td>\n",
       "      <td>-1.520492</td>\n",
       "      <td>-1.565182</td>\n",
       "      <td>-0.332113</td>\n",
       "      <td>-0.269099</td>\n",
       "      <td>2431.0</td>\n",
       "      <td>0.0</td>\n",
       "      <td>0.0</td>\n",
       "      <td>1.0</td>\n",
       "      <td>...</td>\n",
       "      <td>0.0</td>\n",
       "      <td>1.0</td>\n",
       "      <td>0.0</td>\n",
       "      <td>0.0</td>\n",
       "      <td>0.0</td>\n",
       "      <td>0.0</td>\n",
       "      <td>0.0</td>\n",
       "      <td>0.0</td>\n",
       "      <td>0.0</td>\n",
       "      <td>0.0</td>\n",
       "    </tr>\n",
       "    <tr>\n",
       "      <th>4</th>\n",
       "      <td>0.0</td>\n",
       "      <td>1.0</td>\n",
       "      <td>0.534453</td>\n",
       "      <td>0.348021</td>\n",
       "      <td>1.975789</td>\n",
       "      <td>-1.199027</td>\n",
       "      <td>1996.0</td>\n",
       "      <td>0.0</td>\n",
       "      <td>1.0</td>\n",
       "      <td>0.0</td>\n",
       "      <td>...</td>\n",
       "      <td>0.0</td>\n",
       "      <td>0.0</td>\n",
       "      <td>0.0</td>\n",
       "      <td>0.0</td>\n",
       "      <td>1.0</td>\n",
       "      <td>0.0</td>\n",
       "      <td>0.0</td>\n",
       "      <td>0.0</td>\n",
       "      <td>0.0</td>\n",
       "      <td>1.0</td>\n",
       "    </tr>\n",
       "  </tbody>\n",
       "</table>\n",
       "<p>5 rows × 29 columns</p>\n",
       "</div>"
      ],
      "text/plain": [
       "   holiday  workingday      temp     atemp  humidity  windspeed   count  \\\n",
       "0      0.0         1.0  0.623798  0.650106  0.920664  -0.928758  6073.0   \n",
       "1      0.0         1.0 -0.180310 -0.054759  0.696852  -0.213502  6606.0   \n",
       "2      0.0         1.0  0.802489  0.851495 -0.448383   0.803926  7363.0   \n",
       "3      0.0         0.0 -1.520492 -1.565182 -0.332113  -0.269099  2431.0   \n",
       "4      0.0         1.0  0.534453  0.348021  1.975789  -1.199027  1996.0   \n",
       "\n",
       "   season_2.0  season_3.0  season_4.0     ...       month_11.0  month_12.0  \\\n",
       "0         1.0         0.0         0.0     ...              0.0         0.0   \n",
       "1         0.0         0.0         1.0     ...              0.0         1.0   \n",
       "2         1.0         0.0         0.0     ...              0.0         0.0   \n",
       "3         0.0         0.0         1.0     ...              0.0         1.0   \n",
       "4         0.0         1.0         0.0     ...              0.0         0.0   \n",
       "\n",
       "   day_of_week_1.0  day_of_week_2.0  day_of_week_3.0  day_of_week_4.0  \\\n",
       "0              0.0              1.0              0.0              0.0   \n",
       "1              0.0              1.0              0.0              0.0   \n",
       "2              0.0              0.0              0.0              1.0   \n",
       "3              0.0              0.0              0.0              0.0   \n",
       "4              0.0              0.0              1.0              0.0   \n",
       "\n",
       "   day_of_week_5.0  day_of_week_6.0  weather_2.0  weather_3.0  \n",
       "0              0.0              0.0          1.0          0.0  \n",
       "1              0.0              0.0          0.0          0.0  \n",
       "2              0.0              0.0          0.0          0.0  \n",
       "3              0.0              0.0          0.0          0.0  \n",
       "4              0.0              0.0          0.0          1.0  \n",
       "\n",
       "[5 rows x 29 columns]"
      ]
     },
     "execution_count": 17,
     "metadata": {},
     "output_type": "execute_result"
    }
   ],
   "source": [
    "traindf.head()"
   ]
  },
  {
   "cell_type": "markdown",
   "metadata": {},
   "source": [
    "## Part (b): Multiple Linear Regression\n",
    "\n",
    "We are now ready to fit a linear regression model and analyze its coefficients and residuals.\n",
    "\n",
    "- Fit a multiple linear regression model to the training set, and report its $R^2$ score on the test set.\n",
    "- *Statistical significance*: Using a t-test, find out which of estimated coefficients are statistically significant at a significance level of 5% (p-value<0.05). Based on the results of the test, answer the following questions:\n",
    "    - Which among the predictors have a positive correlation with the number of bike rentals? \n",
    "    - Does the day of a week have a relationship with bike rentals? \n",
    "    - Does the month influence the bike rentals? \n",
    "    - What effect does a holiday have on  bike rentals? \n",
    "    - Is there a difference in the coefficients assigned to `temp` and `atemp`? Give an explanation for your observation.\n",
    "- *Residual plot:* Make a plot of residuals of the fitted model ${e} = y - \\hat{y}$ as a function of the predicted value $\\hat{y}$. Note that this is different from the residual plot for simple linear regression. Draw a horizontal line denoting the zero residual value on the Y-axis. Does the plot reveal a non-linear relationship between the predictors and response? What does the plot convey about the variance of the error terms?\n"
   ]
  },
  {
   "cell_type": "code",
   "execution_count": 18,
   "metadata": {
    "collapsed": false
   },
   "outputs": [
    {
     "name": "stdout",
     "output_type": "stream",
     "text": [
      "train r2 =  0.576128178313\n",
      "test r2 =  0.249342111465\n"
     ]
    }
   ],
   "source": [
    "# your code here\n",
    "X_train = sm.add_constant(traindf.drop('count', axis=1))\n",
    "X_test = sm.add_constant(testdf.drop('count', axis=1))\n",
    "y_train = traindf['count'].values.reshape(-1,1)\n",
    "y_test = testdf['count'].values.reshape(-1,1)\n",
    "model_reg = OLS(y_train,X_train).fit()\n",
    "y_train_pred = model_reg.predict(X_train)\n",
    "y_test_pred = model_reg.predict(X_test)\n",
    "print 'train r2 = ', r2_score(traindf['count'], y_train_pred)\n",
    "print 'test r2 = ', r2_score(testdf['count'], y_test_pred)"
   ]
  },
  {
   "cell_type": "code",
   "execution_count": 19,
   "metadata": {
    "collapsed": false
   },
   "outputs": [
    {
     "data": {
      "text/html": [
       "<table class=\"simpletable\">\n",
       "<caption>OLS Regression Results</caption>\n",
       "<tr>\n",
       "  <th>Dep. Variable:</th>            <td>y</td>        <th>  R-squared:         </th> <td>   0.576</td>\n",
       "</tr>\n",
       "<tr>\n",
       "  <th>Model:</th>                   <td>OLS</td>       <th>  Adj. R-squared:    </th> <td>   0.538</td>\n",
       "</tr>\n",
       "<tr>\n",
       "  <th>Method:</th>             <td>Least Squares</td>  <th>  F-statistic:       </th> <td>   15.25</td>\n",
       "</tr>\n",
       "<tr>\n",
       "  <th>Date:</th>             <td>Fri, 03 Nov 2017</td> <th>  Prob (F-statistic):</th> <td>6.56e-42</td>\n",
       "</tr>\n",
       "<tr>\n",
       "  <th>Time:</th>                 <td>17:32:54</td>     <th>  Log-Likelihood:    </th> <td> -2832.1</td>\n",
       "</tr>\n",
       "<tr>\n",
       "  <th>No. Observations:</th>      <td>   331</td>      <th>  AIC:               </th> <td>   5720.</td>\n",
       "</tr>\n",
       "<tr>\n",
       "  <th>Df Residuals:</th>          <td>   303</td>      <th>  BIC:               </th> <td>   5827.</td>\n",
       "</tr>\n",
       "<tr>\n",
       "  <th>Df Model:</th>              <td>    27</td>      <th>                     </th>     <td> </td>   \n",
       "</tr>\n",
       "<tr>\n",
       "  <th>Covariance Type:</th>      <td>nonrobust</td>    <th>                     </th>     <td> </td>   \n",
       "</tr>\n",
       "</table>\n",
       "<table class=\"simpletable\">\n",
       "<tr>\n",
       "         <td></td>            <th>coef</th>     <th>std err</th>      <th>t</th>      <th>P>|t|</th> <th>[95.0% Conf. Int.]</th> \n",
       "</tr>\n",
       "<tr>\n",
       "  <th>const</th>           <td> 3681.7765</td> <td>  433.655</td> <td>    8.490</td> <td> 0.000</td> <td> 2828.419  4535.134</td>\n",
       "</tr>\n",
       "<tr>\n",
       "  <th>holiday</th>         <td> -284.3563</td> <td>  398.982</td> <td>   -0.713</td> <td> 0.477</td> <td>-1069.483   500.770</td>\n",
       "</tr>\n",
       "<tr>\n",
       "  <th>workingday</th>      <td>  308.1531</td> <td>  165.413</td> <td>    1.863</td> <td> 0.063</td> <td>  -17.351   633.657</td>\n",
       "</tr>\n",
       "<tr>\n",
       "  <th>temp</th>            <td>  925.7338</td> <td>  474.536</td> <td>    1.951</td> <td> 0.052</td> <td>   -8.070  1859.538</td>\n",
       "</tr>\n",
       "<tr>\n",
       "  <th>atemp</th>           <td>  312.4341</td> <td>  429.987</td> <td>    0.727</td> <td> 0.468</td> <td> -533.705  1158.573</td>\n",
       "</tr>\n",
       "<tr>\n",
       "  <th>humidity</th>        <td> -548.4929</td> <td>  113.200</td> <td>   -4.845</td> <td> 0.000</td> <td> -771.251  -325.735</td>\n",
       "</tr>\n",
       "<tr>\n",
       "  <th>windspeed</th>       <td> -255.1226</td> <td>   80.766</td> <td>   -3.159</td> <td> 0.002</td> <td> -414.057   -96.189</td>\n",
       "</tr>\n",
       "<tr>\n",
       "  <th>season_2.0</th>      <td>  898.8290</td> <td>  487.802</td> <td>    1.843</td> <td> 0.066</td> <td>  -61.079  1858.737</td>\n",
       "</tr>\n",
       "<tr>\n",
       "  <th>season_3.0</th>      <td> 1032.8816</td> <td>  567.827</td> <td>    1.819</td> <td> 0.070</td> <td>  -84.503  2150.266</td>\n",
       "</tr>\n",
       "<tr>\n",
       "  <th>season_4.0</th>      <td> 1226.1865</td> <td>  506.763</td> <td>    2.420</td> <td> 0.016</td> <td>  228.966  2223.407</td>\n",
       "</tr>\n",
       "<tr>\n",
       "  <th>month_2.0</th>       <td>   88.9401</td> <td>  397.048</td> <td>    0.224</td> <td> 0.823</td> <td> -692.381   870.262</td>\n",
       "</tr>\n",
       "<tr>\n",
       "  <th>month_3.0</th>       <td>  239.1809</td> <td>  446.873</td> <td>    0.535</td> <td> 0.593</td> <td> -640.188  1118.549</td>\n",
       "</tr>\n",
       "<tr>\n",
       "  <th>month_4.0</th>       <td>  333.3491</td> <td>  675.444</td> <td>    0.494</td> <td> 0.622</td> <td> -995.806  1662.504</td>\n",
       "</tr>\n",
       "<tr>\n",
       "  <th>month_5.0</th>       <td>  -65.8125</td> <td>  726.311</td> <td>   -0.091</td> <td> 0.928</td> <td>-1495.065  1363.440</td>\n",
       "</tr>\n",
       "<tr>\n",
       "  <th>month_6.0</th>       <td> -792.2629</td> <td>  749.803</td> <td>   -1.057</td> <td> 0.292</td> <td>-2267.744   683.218</td>\n",
       "</tr>\n",
       "<tr>\n",
       "  <th>month_7.0</th>       <td>-1279.9870</td> <td>  816.047</td> <td>   -1.569</td> <td> 0.118</td> <td>-2885.824   325.850</td>\n",
       "</tr>\n",
       "<tr>\n",
       "  <th>month_8.0</th>       <td> -776.4755</td> <td>  794.782</td> <td>   -0.977</td> <td> 0.329</td> <td>-2340.467   787.516</td>\n",
       "</tr>\n",
       "<tr>\n",
       "  <th>month_9.0</th>       <td>  405.1446</td> <td>  694.714</td> <td>    0.583</td> <td> 0.560</td> <td> -961.931  1772.220</td>\n",
       "</tr>\n",
       "<tr>\n",
       "  <th>month_10.0</th>      <td>  486.2509</td> <td>  651.713</td> <td>    0.746</td> <td> 0.456</td> <td> -796.206  1768.708</td>\n",
       "</tr>\n",
       "<tr>\n",
       "  <th>month_11.0</th>      <td>  112.6816</td> <td>  621.610</td> <td>    0.181</td> <td> 0.856</td> <td>-1110.538  1335.902</td>\n",
       "</tr>\n",
       "<tr>\n",
       "  <th>month_12.0</th>      <td> -118.8358</td> <td>  505.353</td> <td>   -0.235</td> <td> 0.814</td> <td>-1113.282   875.611</td>\n",
       "</tr>\n",
       "<tr>\n",
       "  <th>day_of_week_1.0</th> <td> -123.7515</td> <td>  170.981</td> <td>   -0.724</td> <td> 0.470</td> <td> -460.212   212.709</td>\n",
       "</tr>\n",
       "<tr>\n",
       "  <th>day_of_week_2.0</th> <td> -195.2859</td> <td>  203.703</td> <td>   -0.959</td> <td> 0.338</td> <td> -596.137   205.565</td>\n",
       "</tr>\n",
       "<tr>\n",
       "  <th>day_of_week_3.0</th> <td>  170.5113</td> <td>  213.789</td> <td>    0.798</td> <td> 0.426</td> <td> -250.187   591.210</td>\n",
       "</tr>\n",
       "<tr>\n",
       "  <th>day_of_week_4.0</th> <td>   61.2560</td> <td>  206.213</td> <td>    0.297</td> <td> 0.767</td> <td> -344.536   467.048</td>\n",
       "</tr>\n",
       "<tr>\n",
       "  <th>day_of_week_5.0</th> <td>  111.0669</td> <td>  198.877</td> <td>    0.558</td> <td> 0.577</td> <td> -280.288   502.422</td>\n",
       "</tr>\n",
       "<tr>\n",
       "  <th>day_of_week_6.0</th> <td>  465.1450</td> <td>  269.154</td> <td>    1.728</td> <td> 0.085</td> <td>  -64.504   994.794</td>\n",
       "</tr>\n",
       "<tr>\n",
       "  <th>weather_2.0</th>     <td>  -16.5666</td> <td>  210.139</td> <td>   -0.079</td> <td> 0.937</td> <td> -430.083   396.949</td>\n",
       "</tr>\n",
       "<tr>\n",
       "  <th>weather_3.0</th>     <td>-1581.9783</td> <td>  529.223</td> <td>   -2.989</td> <td> 0.003</td> <td>-2623.396  -540.560</td>\n",
       "</tr>\n",
       "</table>\n",
       "<table class=\"simpletable\">\n",
       "<tr>\n",
       "  <th>Omnibus:</th>       <td>28.947</td> <th>  Durbin-Watson:     </th> <td>   1.912</td>\n",
       "</tr>\n",
       "<tr>\n",
       "  <th>Prob(Omnibus):</th> <td> 0.000</td> <th>  Jarque-Bera (JB):  </th> <td>   9.753</td>\n",
       "</tr>\n",
       "<tr>\n",
       "  <th>Skew:</th>          <td> 0.054</td> <th>  Prob(JB):          </th> <td> 0.00762</td>\n",
       "</tr>\n",
       "<tr>\n",
       "  <th>Kurtosis:</th>      <td> 2.166</td> <th>  Cond. No.          </th> <td>2.22e+15</td>\n",
       "</tr>\n",
       "</table>"
      ],
      "text/plain": [
       "<class 'statsmodels.iolib.summary.Summary'>\n",
       "\"\"\"\n",
       "                            OLS Regression Results                            \n",
       "==============================================================================\n",
       "Dep. Variable:                      y   R-squared:                       0.576\n",
       "Model:                            OLS   Adj. R-squared:                  0.538\n",
       "Method:                 Least Squares   F-statistic:                     15.25\n",
       "Date:                Fri, 03 Nov 2017   Prob (F-statistic):           6.56e-42\n",
       "Time:                        17:32:54   Log-Likelihood:                -2832.1\n",
       "No. Observations:                 331   AIC:                             5720.\n",
       "Df Residuals:                     303   BIC:                             5827.\n",
       "Df Model:                          27                                         \n",
       "Covariance Type:            nonrobust                                         \n",
       "===================================================================================\n",
       "                      coef    std err          t      P>|t|      [95.0% Conf. Int.]\n",
       "-----------------------------------------------------------------------------------\n",
       "const            3681.7765    433.655      8.490      0.000      2828.419  4535.134\n",
       "holiday          -284.3563    398.982     -0.713      0.477     -1069.483   500.770\n",
       "workingday        308.1531    165.413      1.863      0.063       -17.351   633.657\n",
       "temp              925.7338    474.536      1.951      0.052        -8.070  1859.538\n",
       "atemp             312.4341    429.987      0.727      0.468      -533.705  1158.573\n",
       "humidity         -548.4929    113.200     -4.845      0.000      -771.251  -325.735\n",
       "windspeed        -255.1226     80.766     -3.159      0.002      -414.057   -96.189\n",
       "season_2.0        898.8290    487.802      1.843      0.066       -61.079  1858.737\n",
       "season_3.0       1032.8816    567.827      1.819      0.070       -84.503  2150.266\n",
       "season_4.0       1226.1865    506.763      2.420      0.016       228.966  2223.407\n",
       "month_2.0          88.9401    397.048      0.224      0.823      -692.381   870.262\n",
       "month_3.0         239.1809    446.873      0.535      0.593      -640.188  1118.549\n",
       "month_4.0         333.3491    675.444      0.494      0.622      -995.806  1662.504\n",
       "month_5.0         -65.8125    726.311     -0.091      0.928     -1495.065  1363.440\n",
       "month_6.0        -792.2629    749.803     -1.057      0.292     -2267.744   683.218\n",
       "month_7.0       -1279.9870    816.047     -1.569      0.118     -2885.824   325.850\n",
       "month_8.0        -776.4755    794.782     -0.977      0.329     -2340.467   787.516\n",
       "month_9.0         405.1446    694.714      0.583      0.560      -961.931  1772.220\n",
       "month_10.0        486.2509    651.713      0.746      0.456      -796.206  1768.708\n",
       "month_11.0        112.6816    621.610      0.181      0.856     -1110.538  1335.902\n",
       "month_12.0       -118.8358    505.353     -0.235      0.814     -1113.282   875.611\n",
       "day_of_week_1.0  -123.7515    170.981     -0.724      0.470      -460.212   212.709\n",
       "day_of_week_2.0  -195.2859    203.703     -0.959      0.338      -596.137   205.565\n",
       "day_of_week_3.0   170.5113    213.789      0.798      0.426      -250.187   591.210\n",
       "day_of_week_4.0    61.2560    206.213      0.297      0.767      -344.536   467.048\n",
       "day_of_week_5.0   111.0669    198.877      0.558      0.577      -280.288   502.422\n",
       "day_of_week_6.0   465.1450    269.154      1.728      0.085       -64.504   994.794\n",
       "weather_2.0       -16.5666    210.139     -0.079      0.937      -430.083   396.949\n",
       "weather_3.0     -1581.9783    529.223     -2.989      0.003     -2623.396  -540.560\n",
       "==============================================================================\n",
       "Omnibus:                       28.947   Durbin-Watson:                   1.912\n",
       "Prob(Omnibus):                  0.000   Jarque-Bera (JB):                9.753\n",
       "Skew:                           0.054   Prob(JB):                      0.00762\n",
       "Kurtosis:                       2.166   Cond. No.                     2.22e+15\n",
       "==============================================================================\n",
       "\n",
       "Warnings:\n",
       "[1] Standard Errors assume that the covariance matrix of the errors is correctly specified.\n",
       "[2] The smallest eigenvalue is 1.52e-28. This might indicate that there are\n",
       "strong multicollinearity problems or that the design matrix is singular.\n",
       "\"\"\""
      ]
     },
     "execution_count": 19,
     "metadata": {},
     "output_type": "execute_result"
    }
   ],
   "source": [
    "model_reg.summary()"
   ]
  },
  {
   "cell_type": "code",
   "execution_count": 20,
   "metadata": {
    "collapsed": false
   },
   "outputs": [
    {
     "data": {
      "text/plain": [
       "const               True\n",
       "holiday            False\n",
       "workingday         False\n",
       "temp               False\n",
       "atemp              False\n",
       "humidity            True\n",
       "windspeed           True\n",
       "season_2.0         False\n",
       "season_3.0         False\n",
       "season_4.0          True\n",
       "month_2.0          False\n",
       "month_3.0          False\n",
       "month_4.0          False\n",
       "month_5.0          False\n",
       "month_6.0          False\n",
       "month_7.0          False\n",
       "month_8.0          False\n",
       "month_9.0          False\n",
       "month_10.0         False\n",
       "month_11.0         False\n",
       "month_12.0         False\n",
       "day_of_week_1.0    False\n",
       "day_of_week_2.0    False\n",
       "day_of_week_3.0    False\n",
       "day_of_week_4.0    False\n",
       "day_of_week_5.0    False\n",
       "day_of_week_6.0    False\n",
       "weather_2.0        False\n",
       "weather_3.0         True\n",
       "dtype: bool"
      ]
     },
     "execution_count": 20,
     "metadata": {},
     "output_type": "execute_result"
    }
   ],
   "source": [
    "#for alpha 0.05\n",
    "model_reg.pvalues<0.05"
   ]
  },
  {
   "cell_type": "code",
   "execution_count": 21,
   "metadata": {
    "collapsed": false
   },
   "outputs": [
    {
     "data": {
      "text/plain": [
       "const              False\n",
       "holiday            False\n",
       "workingday         False\n",
       "temp               False\n",
       "atemp              False\n",
       "humidity           False\n",
       "windspeed          False\n",
       "season_2.0         False\n",
       "season_3.0         False\n",
       "season_4.0         False\n",
       "month_2.0          False\n",
       "month_3.0          False\n",
       "month_4.0          False\n",
       "month_5.0          False\n",
       "month_6.0          False\n",
       "month_7.0          False\n",
       "month_8.0          False\n",
       "month_9.0          False\n",
       "month_10.0         False\n",
       "month_11.0         False\n",
       "month_12.0         False\n",
       "day_of_week_1.0    False\n",
       "day_of_week_2.0    False\n",
       "day_of_week_3.0    False\n",
       "day_of_week_4.0    False\n",
       "day_of_week_5.0    False\n",
       "day_of_week_6.0    False\n",
       "weather_2.0        False\n",
       "weather_3.0        False\n",
       "dtype: bool"
      ]
     },
     "execution_count": 21,
     "metadata": {},
     "output_type": "execute_result"
    }
   ],
   "source": [
    "model_reg.params == 0"
   ]
  },
  {
   "cell_type": "markdown",
   "metadata": {},
   "source": [
    "Which among the predictors have a positive correlation with the number of bike rentals?"
   ]
  },
  {
   "cell_type": "code",
   "execution_count": 22,
   "metadata": {
    "collapsed": false
   },
   "outputs": [
    {
     "data": {
      "text/plain": [
       "const          9.368885e-16\n",
       "humidity       2.020827e-06\n",
       "windspeed      1.744235e-03\n",
       "season_4.0     1.612408e-02\n",
       "weather_3.0    3.025734e-03\n",
       "dtype: float64"
      ]
     },
     "execution_count": 22,
     "metadata": {},
     "output_type": "execute_result"
    }
   ],
   "source": [
    "#good Correlation\n",
    "model_reg.pvalues[model_reg.pvalues<0.05]"
   ]
  },
  {
   "cell_type": "code",
   "execution_count": 23,
   "metadata": {
    "collapsed": false
   },
   "outputs": [
    {
     "data": {
      "text/plain": [
       "const         9.368885e-16\n",
       "season_4.0    1.612408e-02\n",
       "dtype: float64"
      ]
     },
     "execution_count": 23,
     "metadata": {},
     "output_type": "execute_result"
    }
   ],
   "source": [
    "#positive Corr\n",
    "model_reg.pvalues[(model_reg.pvalues<0.05) & (model_reg.params > 0) ]"
   ]
  },
  {
   "cell_type": "code",
   "execution_count": 24,
   "metadata": {
    "collapsed": false
   },
   "outputs": [
    {
     "data": {
      "text/plain": [
       "humidity       0.000002\n",
       "windspeed      0.001744\n",
       "weather_3.0    0.003026\n",
       "dtype: float64"
      ]
     },
     "execution_count": 24,
     "metadata": {},
     "output_type": "execute_result"
    }
   ],
   "source": [
    "#-ve corr\n",
    "model_reg.pvalues[(model_reg.pvalues<0.05) & (model_reg.params < 0) ]"
   ]
  },
  {
   "cell_type": "markdown",
   "metadata": {},
   "source": [
    "Does the day of a week have a relationship with bike rentals?  \n",
    "No"
   ]
  },
  {
   "cell_type": "markdown",
   "metadata": {},
   "source": [
    "Does the month influence the bike rentals?  \n",
    "No evidence for this"
   ]
  },
  {
   "cell_type": "markdown",
   "metadata": {},
   "source": [
    "What effect does a holiday have on bike rentals?  \n",
    "No evidence for this"
   ]
  },
  {
   "cell_type": "markdown",
   "metadata": {},
   "source": [
    "Is there a difference in the coefficients assigned to temp and atemp? Give an explanation for your observation.  \n",
    "No. temp and atemp are highly colinear and thus model results are misleading."
   ]
  },
  {
   "cell_type": "markdown",
   "metadata": {},
   "source": [
    "## Part (c): Checking Collinearity\n",
    "\n",
    "Does the data suffer from multi-collinearity? To answer this question, let us first analyze the correlation matrix for the data. Compute the (Pearson product-moment) correlation matrix for the predictor variables in the training set, and visualize the matrix using a heatmap. For categorical attributes, you should use each binary predictor resulting from one-hot encoding to compute their correlations.  Are there predictors that fall into natural groups based on the correlation values? \n",
    "\n",
    "*Hint:* You may use the `np.corrcoef` function to compute the correlation matrix for a data set (do not forget to transpose the data matrix). You may use `plt.pcolor` function to visualize the correlation matrix."
   ]
  },
  {
   "cell_type": "code",
   "execution_count": 97,
   "metadata": {
    "collapsed": false
   },
   "outputs": [
    {
     "data": {
      "application/javascript": [
       "/* Put everything inside the global mpl namespace */\n",
       "window.mpl = {};\n",
       "\n",
       "mpl.get_websocket_type = function() {\n",
       "    if (typeof(WebSocket) !== 'undefined') {\n",
       "        return WebSocket;\n",
       "    } else if (typeof(MozWebSocket) !== 'undefined') {\n",
       "        return MozWebSocket;\n",
       "    } else {\n",
       "        alert('Your browser does not have WebSocket support.' +\n",
       "              'Please try Chrome, Safari or Firefox ≥ 6. ' +\n",
       "              'Firefox 4 and 5 are also supported but you ' +\n",
       "              'have to enable WebSockets in about:config.');\n",
       "    };\n",
       "}\n",
       "\n",
       "mpl.figure = function(figure_id, websocket, ondownload, parent_element) {\n",
       "    this.id = figure_id;\n",
       "\n",
       "    this.ws = websocket;\n",
       "\n",
       "    this.supports_binary = (this.ws.binaryType != undefined);\n",
       "\n",
       "    if (!this.supports_binary) {\n",
       "        var warnings = document.getElementById(\"mpl-warnings\");\n",
       "        if (warnings) {\n",
       "            warnings.style.display = 'block';\n",
       "            warnings.textContent = (\n",
       "                \"This browser does not support binary websocket messages. \" +\n",
       "                    \"Performance may be slow.\");\n",
       "        }\n",
       "    }\n",
       "\n",
       "    this.imageObj = new Image();\n",
       "\n",
       "    this.context = undefined;\n",
       "    this.message = undefined;\n",
       "    this.canvas = undefined;\n",
       "    this.rubberband_canvas = undefined;\n",
       "    this.rubberband_context = undefined;\n",
       "    this.format_dropdown = undefined;\n",
       "\n",
       "    this.image_mode = 'full';\n",
       "\n",
       "    this.root = $('<div/>');\n",
       "    this._root_extra_style(this.root)\n",
       "    this.root.attr('style', 'display: inline-block');\n",
       "\n",
       "    $(parent_element).append(this.root);\n",
       "\n",
       "    this._init_header(this);\n",
       "    this._init_canvas(this);\n",
       "    this._init_toolbar(this);\n",
       "\n",
       "    var fig = this;\n",
       "\n",
       "    this.waiting = false;\n",
       "\n",
       "    this.ws.onopen =  function () {\n",
       "            fig.send_message(\"supports_binary\", {value: fig.supports_binary});\n",
       "            fig.send_message(\"send_image_mode\", {});\n",
       "            fig.send_message(\"refresh\", {});\n",
       "        }\n",
       "\n",
       "    this.imageObj.onload = function() {\n",
       "            if (fig.image_mode == 'full') {\n",
       "                // Full images could contain transparency (where diff images\n",
       "                // almost always do), so we need to clear the canvas so that\n",
       "                // there is no ghosting.\n",
       "                fig.context.clearRect(0, 0, fig.canvas.width, fig.canvas.height);\n",
       "            }\n",
       "            fig.context.drawImage(fig.imageObj, 0, 0);\n",
       "        };\n",
       "\n",
       "    this.imageObj.onunload = function() {\n",
       "        this.ws.close();\n",
       "    }\n",
       "\n",
       "    this.ws.onmessage = this._make_on_message_function(this);\n",
       "\n",
       "    this.ondownload = ondownload;\n",
       "}\n",
       "\n",
       "mpl.figure.prototype._init_header = function() {\n",
       "    var titlebar = $(\n",
       "        '<div class=\"ui-dialog-titlebar ui-widget-header ui-corner-all ' +\n",
       "        'ui-helper-clearfix\"/>');\n",
       "    var titletext = $(\n",
       "        '<div class=\"ui-dialog-title\" style=\"width: 100%; ' +\n",
       "        'text-align: center; padding: 3px;\"/>');\n",
       "    titlebar.append(titletext)\n",
       "    this.root.append(titlebar);\n",
       "    this.header = titletext[0];\n",
       "}\n",
       "\n",
       "\n",
       "\n",
       "mpl.figure.prototype._canvas_extra_style = function(canvas_div) {\n",
       "\n",
       "}\n",
       "\n",
       "\n",
       "mpl.figure.prototype._root_extra_style = function(canvas_div) {\n",
       "\n",
       "}\n",
       "\n",
       "mpl.figure.prototype._init_canvas = function() {\n",
       "    var fig = this;\n",
       "\n",
       "    var canvas_div = $('<div/>');\n",
       "\n",
       "    canvas_div.attr('style', 'position: relative; clear: both; outline: 0');\n",
       "\n",
       "    function canvas_keyboard_event(event) {\n",
       "        return fig.key_event(event, event['data']);\n",
       "    }\n",
       "\n",
       "    canvas_div.keydown('key_press', canvas_keyboard_event);\n",
       "    canvas_div.keyup('key_release', canvas_keyboard_event);\n",
       "    this.canvas_div = canvas_div\n",
       "    this._canvas_extra_style(canvas_div)\n",
       "    this.root.append(canvas_div);\n",
       "\n",
       "    var canvas = $('<canvas/>');\n",
       "    canvas.addClass('mpl-canvas');\n",
       "    canvas.attr('style', \"left: 0; top: 0; z-index: 0; outline: 0\")\n",
       "\n",
       "    this.canvas = canvas[0];\n",
       "    this.context = canvas[0].getContext(\"2d\");\n",
       "\n",
       "    var rubberband = $('<canvas/>');\n",
       "    rubberband.attr('style', \"position: absolute; left: 0; top: 0; z-index: 1;\")\n",
       "\n",
       "    var pass_mouse_events = true;\n",
       "\n",
       "    canvas_div.resizable({\n",
       "        start: function(event, ui) {\n",
       "            pass_mouse_events = false;\n",
       "        },\n",
       "        resize: function(event, ui) {\n",
       "            fig.request_resize(ui.size.width, ui.size.height);\n",
       "        },\n",
       "        stop: function(event, ui) {\n",
       "            pass_mouse_events = true;\n",
       "            fig.request_resize(ui.size.width, ui.size.height);\n",
       "        },\n",
       "    });\n",
       "\n",
       "    function mouse_event_fn(event) {\n",
       "        if (pass_mouse_events)\n",
       "            return fig.mouse_event(event, event['data']);\n",
       "    }\n",
       "\n",
       "    rubberband.mousedown('button_press', mouse_event_fn);\n",
       "    rubberband.mouseup('button_release', mouse_event_fn);\n",
       "    // Throttle sequential mouse events to 1 every 20ms.\n",
       "    rubberband.mousemove('motion_notify', mouse_event_fn);\n",
       "\n",
       "    rubberband.mouseenter('figure_enter', mouse_event_fn);\n",
       "    rubberband.mouseleave('figure_leave', mouse_event_fn);\n",
       "\n",
       "    canvas_div.on(\"wheel\", function (event) {\n",
       "        event = event.originalEvent;\n",
       "        event['data'] = 'scroll'\n",
       "        if (event.deltaY < 0) {\n",
       "            event.step = 1;\n",
       "        } else {\n",
       "            event.step = -1;\n",
       "        }\n",
       "        mouse_event_fn(event);\n",
       "    });\n",
       "\n",
       "    canvas_div.append(canvas);\n",
       "    canvas_div.append(rubberband);\n",
       "\n",
       "    this.rubberband = rubberband;\n",
       "    this.rubberband_canvas = rubberband[0];\n",
       "    this.rubberband_context = rubberband[0].getContext(\"2d\");\n",
       "    this.rubberband_context.strokeStyle = \"#000000\";\n",
       "\n",
       "    this._resize_canvas = function(width, height) {\n",
       "        // Keep the size of the canvas, canvas container, and rubber band\n",
       "        // canvas in synch.\n",
       "        canvas_div.css('width', width)\n",
       "        canvas_div.css('height', height)\n",
       "\n",
       "        canvas.attr('width', width);\n",
       "        canvas.attr('height', height);\n",
       "\n",
       "        rubberband.attr('width', width);\n",
       "        rubberband.attr('height', height);\n",
       "    }\n",
       "\n",
       "    // Set the figure to an initial 600x600px, this will subsequently be updated\n",
       "    // upon first draw.\n",
       "    this._resize_canvas(600, 600);\n",
       "\n",
       "    // Disable right mouse context menu.\n",
       "    $(this.rubberband_canvas).bind(\"contextmenu\",function(e){\n",
       "        return false;\n",
       "    });\n",
       "\n",
       "    function set_focus () {\n",
       "        canvas.focus();\n",
       "        canvas_div.focus();\n",
       "    }\n",
       "\n",
       "    window.setTimeout(set_focus, 100);\n",
       "}\n",
       "\n",
       "mpl.figure.prototype._init_toolbar = function() {\n",
       "    var fig = this;\n",
       "\n",
       "    var nav_element = $('<div/>')\n",
       "    nav_element.attr('style', 'width: 100%');\n",
       "    this.root.append(nav_element);\n",
       "\n",
       "    // Define a callback function for later on.\n",
       "    function toolbar_event(event) {\n",
       "        return fig.toolbar_button_onclick(event['data']);\n",
       "    }\n",
       "    function toolbar_mouse_event(event) {\n",
       "        return fig.toolbar_button_onmouseover(event['data']);\n",
       "    }\n",
       "\n",
       "    for(var toolbar_ind in mpl.toolbar_items) {\n",
       "        var name = mpl.toolbar_items[toolbar_ind][0];\n",
       "        var tooltip = mpl.toolbar_items[toolbar_ind][1];\n",
       "        var image = mpl.toolbar_items[toolbar_ind][2];\n",
       "        var method_name = mpl.toolbar_items[toolbar_ind][3];\n",
       "\n",
       "        if (!name) {\n",
       "            // put a spacer in here.\n",
       "            continue;\n",
       "        }\n",
       "        var button = $('<button/>');\n",
       "        button.addClass('ui-button ui-widget ui-state-default ui-corner-all ' +\n",
       "                        'ui-button-icon-only');\n",
       "        button.attr('role', 'button');\n",
       "        button.attr('aria-disabled', 'false');\n",
       "        button.click(method_name, toolbar_event);\n",
       "        button.mouseover(tooltip, toolbar_mouse_event);\n",
       "\n",
       "        var icon_img = $('<span/>');\n",
       "        icon_img.addClass('ui-button-icon-primary ui-icon');\n",
       "        icon_img.addClass(image);\n",
       "        icon_img.addClass('ui-corner-all');\n",
       "\n",
       "        var tooltip_span = $('<span/>');\n",
       "        tooltip_span.addClass('ui-button-text');\n",
       "        tooltip_span.html(tooltip);\n",
       "\n",
       "        button.append(icon_img);\n",
       "        button.append(tooltip_span);\n",
       "\n",
       "        nav_element.append(button);\n",
       "    }\n",
       "\n",
       "    var fmt_picker_span = $('<span/>');\n",
       "\n",
       "    var fmt_picker = $('<select/>');\n",
       "    fmt_picker.addClass('mpl-toolbar-option ui-widget ui-widget-content');\n",
       "    fmt_picker_span.append(fmt_picker);\n",
       "    nav_element.append(fmt_picker_span);\n",
       "    this.format_dropdown = fmt_picker[0];\n",
       "\n",
       "    for (var ind in mpl.extensions) {\n",
       "        var fmt = mpl.extensions[ind];\n",
       "        var option = $(\n",
       "            '<option/>', {selected: fmt === mpl.default_extension}).html(fmt);\n",
       "        fmt_picker.append(option)\n",
       "    }\n",
       "\n",
       "    // Add hover states to the ui-buttons\n",
       "    $( \".ui-button\" ).hover(\n",
       "        function() { $(this).addClass(\"ui-state-hover\");},\n",
       "        function() { $(this).removeClass(\"ui-state-hover\");}\n",
       "    );\n",
       "\n",
       "    var status_bar = $('<span class=\"mpl-message\"/>');\n",
       "    nav_element.append(status_bar);\n",
       "    this.message = status_bar[0];\n",
       "}\n",
       "\n",
       "mpl.figure.prototype.request_resize = function(x_pixels, y_pixels) {\n",
       "    // Request matplotlib to resize the figure. Matplotlib will then trigger a resize in the client,\n",
       "    // which will in turn request a refresh of the image.\n",
       "    this.send_message('resize', {'width': x_pixels, 'height': y_pixels});\n",
       "}\n",
       "\n",
       "mpl.figure.prototype.send_message = function(type, properties) {\n",
       "    properties['type'] = type;\n",
       "    properties['figure_id'] = this.id;\n",
       "    this.ws.send(JSON.stringify(properties));\n",
       "}\n",
       "\n",
       "mpl.figure.prototype.send_draw_message = function() {\n",
       "    if (!this.waiting) {\n",
       "        this.waiting = true;\n",
       "        this.ws.send(JSON.stringify({type: \"draw\", figure_id: this.id}));\n",
       "    }\n",
       "}\n",
       "\n",
       "\n",
       "mpl.figure.prototype.handle_save = function(fig, msg) {\n",
       "    var format_dropdown = fig.format_dropdown;\n",
       "    var format = format_dropdown.options[format_dropdown.selectedIndex].value;\n",
       "    fig.ondownload(fig, format);\n",
       "}\n",
       "\n",
       "\n",
       "mpl.figure.prototype.handle_resize = function(fig, msg) {\n",
       "    var size = msg['size'];\n",
       "    if (size[0] != fig.canvas.width || size[1] != fig.canvas.height) {\n",
       "        fig._resize_canvas(size[0], size[1]);\n",
       "        fig.send_message(\"refresh\", {});\n",
       "    };\n",
       "}\n",
       "\n",
       "mpl.figure.prototype.handle_rubberband = function(fig, msg) {\n",
       "    var x0 = msg['x0'];\n",
       "    var y0 = fig.canvas.height - msg['y0'];\n",
       "    var x1 = msg['x1'];\n",
       "    var y1 = fig.canvas.height - msg['y1'];\n",
       "    x0 = Math.floor(x0) + 0.5;\n",
       "    y0 = Math.floor(y0) + 0.5;\n",
       "    x1 = Math.floor(x1) + 0.5;\n",
       "    y1 = Math.floor(y1) + 0.5;\n",
       "    var min_x = Math.min(x0, x1);\n",
       "    var min_y = Math.min(y0, y1);\n",
       "    var width = Math.abs(x1 - x0);\n",
       "    var height = Math.abs(y1 - y0);\n",
       "\n",
       "    fig.rubberband_context.clearRect(\n",
       "        0, 0, fig.canvas.width, fig.canvas.height);\n",
       "\n",
       "    fig.rubberband_context.strokeRect(min_x, min_y, width, height);\n",
       "}\n",
       "\n",
       "mpl.figure.prototype.handle_figure_label = function(fig, msg) {\n",
       "    // Updates the figure title.\n",
       "    fig.header.textContent = msg['label'];\n",
       "}\n",
       "\n",
       "mpl.figure.prototype.handle_cursor = function(fig, msg) {\n",
       "    var cursor = msg['cursor'];\n",
       "    switch(cursor)\n",
       "    {\n",
       "    case 0:\n",
       "        cursor = 'pointer';\n",
       "        break;\n",
       "    case 1:\n",
       "        cursor = 'default';\n",
       "        break;\n",
       "    case 2:\n",
       "        cursor = 'crosshair';\n",
       "        break;\n",
       "    case 3:\n",
       "        cursor = 'move';\n",
       "        break;\n",
       "    }\n",
       "    fig.rubberband_canvas.style.cursor = cursor;\n",
       "}\n",
       "\n",
       "mpl.figure.prototype.handle_message = function(fig, msg) {\n",
       "    fig.message.textContent = msg['message'];\n",
       "}\n",
       "\n",
       "mpl.figure.prototype.handle_draw = function(fig, msg) {\n",
       "    // Request the server to send over a new figure.\n",
       "    fig.send_draw_message();\n",
       "}\n",
       "\n",
       "mpl.figure.prototype.handle_image_mode = function(fig, msg) {\n",
       "    fig.image_mode = msg['mode'];\n",
       "}\n",
       "\n",
       "mpl.figure.prototype.updated_canvas_event = function() {\n",
       "    // Called whenever the canvas gets updated.\n",
       "    this.send_message(\"ack\", {});\n",
       "}\n",
       "\n",
       "// A function to construct a web socket function for onmessage handling.\n",
       "// Called in the figure constructor.\n",
       "mpl.figure.prototype._make_on_message_function = function(fig) {\n",
       "    return function socket_on_message(evt) {\n",
       "        if (evt.data instanceof Blob) {\n",
       "            /* FIXME: We get \"Resource interpreted as Image but\n",
       "             * transferred with MIME type text/plain:\" errors on\n",
       "             * Chrome.  But how to set the MIME type?  It doesn't seem\n",
       "             * to be part of the websocket stream */\n",
       "            evt.data.type = \"image/png\";\n",
       "\n",
       "            /* Free the memory for the previous frames */\n",
       "            if (fig.imageObj.src) {\n",
       "                (window.URL || window.webkitURL).revokeObjectURL(\n",
       "                    fig.imageObj.src);\n",
       "            }\n",
       "\n",
       "            fig.imageObj.src = (window.URL || window.webkitURL).createObjectURL(\n",
       "                evt.data);\n",
       "            fig.updated_canvas_event();\n",
       "            fig.waiting = false;\n",
       "            return;\n",
       "        }\n",
       "        else if (typeof evt.data === 'string' && evt.data.slice(0, 21) == \"data:image/png;base64\") {\n",
       "            fig.imageObj.src = evt.data;\n",
       "            fig.updated_canvas_event();\n",
       "            fig.waiting = false;\n",
       "            return;\n",
       "        }\n",
       "\n",
       "        var msg = JSON.parse(evt.data);\n",
       "        var msg_type = msg['type'];\n",
       "\n",
       "        // Call the  \"handle_{type}\" callback, which takes\n",
       "        // the figure and JSON message as its only arguments.\n",
       "        try {\n",
       "            var callback = fig[\"handle_\" + msg_type];\n",
       "        } catch (e) {\n",
       "            console.log(\"No handler for the '\" + msg_type + \"' message type: \", msg);\n",
       "            return;\n",
       "        }\n",
       "\n",
       "        if (callback) {\n",
       "            try {\n",
       "                // console.log(\"Handling '\" + msg_type + \"' message: \", msg);\n",
       "                callback(fig, msg);\n",
       "            } catch (e) {\n",
       "                console.log(\"Exception inside the 'handler_\" + msg_type + \"' callback:\", e, e.stack, msg);\n",
       "            }\n",
       "        }\n",
       "    };\n",
       "}\n",
       "\n",
       "// from http://stackoverflow.com/questions/1114465/getting-mouse-location-in-canvas\n",
       "mpl.findpos = function(e) {\n",
       "    //this section is from http://www.quirksmode.org/js/events_properties.html\n",
       "    var targ;\n",
       "    if (!e)\n",
       "        e = window.event;\n",
       "    if (e.target)\n",
       "        targ = e.target;\n",
       "    else if (e.srcElement)\n",
       "        targ = e.srcElement;\n",
       "    if (targ.nodeType == 3) // defeat Safari bug\n",
       "        targ = targ.parentNode;\n",
       "\n",
       "    // jQuery normalizes the pageX and pageY\n",
       "    // pageX,Y are the mouse positions relative to the document\n",
       "    // offset() returns the position of the element relative to the document\n",
       "    var x = e.pageX - $(targ).offset().left;\n",
       "    var y = e.pageY - $(targ).offset().top;\n",
       "\n",
       "    return {\"x\": x, \"y\": y};\n",
       "};\n",
       "\n",
       "/*\n",
       " * return a copy of an object with only non-object keys\n",
       " * we need this to avoid circular references\n",
       " * http://stackoverflow.com/a/24161582/3208463\n",
       " */\n",
       "function simpleKeys (original) {\n",
       "  return Object.keys(original).reduce(function (obj, key) {\n",
       "    if (typeof original[key] !== 'object')\n",
       "        obj[key] = original[key]\n",
       "    return obj;\n",
       "  }, {});\n",
       "}\n",
       "\n",
       "mpl.figure.prototype.mouse_event = function(event, name) {\n",
       "    var canvas_pos = mpl.findpos(event)\n",
       "\n",
       "    if (name === 'button_press')\n",
       "    {\n",
       "        this.canvas.focus();\n",
       "        this.canvas_div.focus();\n",
       "    }\n",
       "\n",
       "    var x = canvas_pos.x;\n",
       "    var y = canvas_pos.y;\n",
       "\n",
       "    this.send_message(name, {x: x, y: y, button: event.button,\n",
       "                             step: event.step,\n",
       "                             guiEvent: simpleKeys(event)});\n",
       "\n",
       "    /* This prevents the web browser from automatically changing to\n",
       "     * the text insertion cursor when the button is pressed.  We want\n",
       "     * to control all of the cursor setting manually through the\n",
       "     * 'cursor' event from matplotlib */\n",
       "    event.preventDefault();\n",
       "    return false;\n",
       "}\n",
       "\n",
       "mpl.figure.prototype._key_event_extra = function(event, name) {\n",
       "    // Handle any extra behaviour associated with a key event\n",
       "}\n",
       "\n",
       "mpl.figure.prototype.key_event = function(event, name) {\n",
       "\n",
       "    // Prevent repeat events\n",
       "    if (name == 'key_press')\n",
       "    {\n",
       "        if (event.which === this._key)\n",
       "            return;\n",
       "        else\n",
       "            this._key = event.which;\n",
       "    }\n",
       "    if (name == 'key_release')\n",
       "        this._key = null;\n",
       "\n",
       "    var value = '';\n",
       "    if (event.ctrlKey && event.which != 17)\n",
       "        value += \"ctrl+\";\n",
       "    if (event.altKey && event.which != 18)\n",
       "        value += \"alt+\";\n",
       "    if (event.shiftKey && event.which != 16)\n",
       "        value += \"shift+\";\n",
       "\n",
       "    value += 'k';\n",
       "    value += event.which.toString();\n",
       "\n",
       "    this._key_event_extra(event, name);\n",
       "\n",
       "    this.send_message(name, {key: value,\n",
       "                             guiEvent: simpleKeys(event)});\n",
       "    return false;\n",
       "}\n",
       "\n",
       "mpl.figure.prototype.toolbar_button_onclick = function(name) {\n",
       "    if (name == 'download') {\n",
       "        this.handle_save(this, null);\n",
       "    } else {\n",
       "        this.send_message(\"toolbar_button\", {name: name});\n",
       "    }\n",
       "};\n",
       "\n",
       "mpl.figure.prototype.toolbar_button_onmouseover = function(tooltip) {\n",
       "    this.message.textContent = tooltip;\n",
       "};\n",
       "mpl.toolbar_items = [[\"Home\", \"Reset original view\", \"fa fa-home icon-home\", \"home\"], [\"Back\", \"Back to  previous view\", \"fa fa-arrow-left icon-arrow-left\", \"back\"], [\"Forward\", \"Forward to next view\", \"fa fa-arrow-right icon-arrow-right\", \"forward\"], [\"\", \"\", \"\", \"\"], [\"Pan\", \"Pan axes with left mouse, zoom with right\", \"fa fa-arrows icon-move\", \"pan\"], [\"Zoom\", \"Zoom to rectangle\", \"fa fa-square-o icon-check-empty\", \"zoom\"], [\"\", \"\", \"\", \"\"], [\"Download\", \"Download plot\", \"fa fa-floppy-o icon-save\", \"download\"]];\n",
       "\n",
       "mpl.extensions = [\"eps\", \"jpeg\", \"pdf\", \"png\", \"ps\", \"raw\", \"svg\", \"tif\"];\n",
       "\n",
       "mpl.default_extension = \"png\";var comm_websocket_adapter = function(comm) {\n",
       "    // Create a \"websocket\"-like object which calls the given IPython comm\n",
       "    // object with the appropriate methods. Currently this is a non binary\n",
       "    // socket, so there is still some room for performance tuning.\n",
       "    var ws = {};\n",
       "\n",
       "    ws.close = function() {\n",
       "        comm.close()\n",
       "    };\n",
       "    ws.send = function(m) {\n",
       "        //console.log('sending', m);\n",
       "        comm.send(m);\n",
       "    };\n",
       "    // Register the callback with on_msg.\n",
       "    comm.on_msg(function(msg) {\n",
       "        //console.log('receiving', msg['content']['data'], msg);\n",
       "        // Pass the mpl event to the overriden (by mpl) onmessage function.\n",
       "        ws.onmessage(msg['content']['data'])\n",
       "    });\n",
       "    return ws;\n",
       "}\n",
       "\n",
       "mpl.mpl_figure_comm = function(comm, msg) {\n",
       "    // This is the function which gets called when the mpl process\n",
       "    // starts-up an IPython Comm through the \"matplotlib\" channel.\n",
       "\n",
       "    var id = msg.content.data.id;\n",
       "    // Get hold of the div created by the display call when the Comm\n",
       "    // socket was opened in Python.\n",
       "    var element = $(\"#\" + id);\n",
       "    var ws_proxy = comm_websocket_adapter(comm)\n",
       "\n",
       "    function ondownload(figure, format) {\n",
       "        window.open(figure.imageObj.src);\n",
       "    }\n",
       "\n",
       "    var fig = new mpl.figure(id, ws_proxy,\n",
       "                           ondownload,\n",
       "                           element.get(0));\n",
       "\n",
       "    // Call onopen now - mpl needs it, as it is assuming we've passed it a real\n",
       "    // web socket which is closed, not our websocket->open comm proxy.\n",
       "    ws_proxy.onopen();\n",
       "\n",
       "    fig.parent_element = element.get(0);\n",
       "    fig.cell_info = mpl.find_output_cell(\"<div id='\" + id + \"'></div>\");\n",
       "    if (!fig.cell_info) {\n",
       "        console.error(\"Failed to find cell for figure\", id, fig);\n",
       "        return;\n",
       "    }\n",
       "\n",
       "    var output_index = fig.cell_info[2]\n",
       "    var cell = fig.cell_info[0];\n",
       "\n",
       "};\n",
       "\n",
       "mpl.figure.prototype.handle_close = function(fig, msg) {\n",
       "    fig.root.unbind('remove')\n",
       "\n",
       "    // Update the output cell to use the data from the current canvas.\n",
       "    fig.push_to_output();\n",
       "    var dataURL = fig.canvas.toDataURL();\n",
       "    // Re-enable the keyboard manager in IPython - without this line, in FF,\n",
       "    // the notebook keyboard shortcuts fail.\n",
       "    IPython.keyboard_manager.enable()\n",
       "    $(fig.parent_element).html('<img src=\"' + dataURL + '\">');\n",
       "    fig.close_ws(fig, msg);\n",
       "}\n",
       "\n",
       "mpl.figure.prototype.close_ws = function(fig, msg){\n",
       "    fig.send_message('closing', msg);\n",
       "    // fig.ws.close()\n",
       "}\n",
       "\n",
       "mpl.figure.prototype.push_to_output = function(remove_interactive) {\n",
       "    // Turn the data on the canvas into data in the output cell.\n",
       "    var dataURL = this.canvas.toDataURL();\n",
       "    this.cell_info[1]['text/html'] = '<img src=\"' + dataURL + '\">';\n",
       "}\n",
       "\n",
       "mpl.figure.prototype.updated_canvas_event = function() {\n",
       "    // Tell IPython that the notebook contents must change.\n",
       "    IPython.notebook.set_dirty(true);\n",
       "    this.send_message(\"ack\", {});\n",
       "    var fig = this;\n",
       "    // Wait a second, then push the new image to the DOM so\n",
       "    // that it is saved nicely (might be nice to debounce this).\n",
       "    setTimeout(function () { fig.push_to_output() }, 1000);\n",
       "}\n",
       "\n",
       "mpl.figure.prototype._init_toolbar = function() {\n",
       "    var fig = this;\n",
       "\n",
       "    var nav_element = $('<div/>')\n",
       "    nav_element.attr('style', 'width: 100%');\n",
       "    this.root.append(nav_element);\n",
       "\n",
       "    // Define a callback function for later on.\n",
       "    function toolbar_event(event) {\n",
       "        return fig.toolbar_button_onclick(event['data']);\n",
       "    }\n",
       "    function toolbar_mouse_event(event) {\n",
       "        return fig.toolbar_button_onmouseover(event['data']);\n",
       "    }\n",
       "\n",
       "    for(var toolbar_ind in mpl.toolbar_items){\n",
       "        var name = mpl.toolbar_items[toolbar_ind][0];\n",
       "        var tooltip = mpl.toolbar_items[toolbar_ind][1];\n",
       "        var image = mpl.toolbar_items[toolbar_ind][2];\n",
       "        var method_name = mpl.toolbar_items[toolbar_ind][3];\n",
       "\n",
       "        if (!name) { continue; };\n",
       "\n",
       "        var button = $('<button class=\"btn btn-default\" href=\"#\" title=\"' + name + '\"><i class=\"fa ' + image + ' fa-lg\"></i></button>');\n",
       "        button.click(method_name, toolbar_event);\n",
       "        button.mouseover(tooltip, toolbar_mouse_event);\n",
       "        nav_element.append(button);\n",
       "    }\n",
       "\n",
       "    // Add the status bar.\n",
       "    var status_bar = $('<span class=\"mpl-message\" style=\"text-align:right; float: right;\"/>');\n",
       "    nav_element.append(status_bar);\n",
       "    this.message = status_bar[0];\n",
       "\n",
       "    // Add the close button to the window.\n",
       "    var buttongrp = $('<div class=\"btn-group inline pull-right\"></div>');\n",
       "    var button = $('<button class=\"btn btn-mini btn-primary\" href=\"#\" title=\"Stop Interaction\"><i class=\"fa fa-power-off icon-remove icon-large\"></i></button>');\n",
       "    button.click(function (evt) { fig.handle_close(fig, {}); } );\n",
       "    button.mouseover('Stop Interaction', toolbar_mouse_event);\n",
       "    buttongrp.append(button);\n",
       "    var titlebar = this.root.find($('.ui-dialog-titlebar'));\n",
       "    titlebar.prepend(buttongrp);\n",
       "}\n",
       "\n",
       "mpl.figure.prototype._root_extra_style = function(el){\n",
       "    var fig = this\n",
       "    el.on(\"remove\", function(){\n",
       "\tfig.close_ws(fig, {});\n",
       "    });\n",
       "}\n",
       "\n",
       "mpl.figure.prototype._canvas_extra_style = function(el){\n",
       "    // this is important to make the div 'focusable\n",
       "    el.attr('tabindex', 0)\n",
       "    // reach out to IPython and tell the keyboard manager to turn it's self\n",
       "    // off when our div gets focus\n",
       "\n",
       "    // location in version 3\n",
       "    if (IPython.notebook.keyboard_manager) {\n",
       "        IPython.notebook.keyboard_manager.register_events(el);\n",
       "    }\n",
       "    else {\n",
       "        // location in version 2\n",
       "        IPython.keyboard_manager.register_events(el);\n",
       "    }\n",
       "\n",
       "}\n",
       "\n",
       "mpl.figure.prototype._key_event_extra = function(event, name) {\n",
       "    var manager = IPython.notebook.keyboard_manager;\n",
       "    if (!manager)\n",
       "        manager = IPython.keyboard_manager;\n",
       "\n",
       "    // Check for shift+enter\n",
       "    if (event.shiftKey && event.which == 13) {\n",
       "        this.canvas_div.blur();\n",
       "        event.shiftKey = false;\n",
       "        // Send a \"J\" for go to next cell\n",
       "        event.which = 74;\n",
       "        event.keyCode = 74;\n",
       "        manager.command_mode();\n",
       "        manager.handle_keydown(event);\n",
       "    }\n",
       "}\n",
       "\n",
       "mpl.figure.prototype.handle_save = function(fig, msg) {\n",
       "    fig.ondownload(fig, null);\n",
       "}\n",
       "\n",
       "\n",
       "mpl.find_output_cell = function(html_output) {\n",
       "    // Return the cell and output element which can be found *uniquely* in the notebook.\n",
       "    // Note - this is a bit hacky, but it is done because the \"notebook_saving.Notebook\"\n",
       "    // IPython event is triggered only after the cells have been serialised, which for\n",
       "    // our purposes (turning an active figure into a static one), is too late.\n",
       "    var cells = IPython.notebook.get_cells();\n",
       "    var ncells = cells.length;\n",
       "    for (var i=0; i<ncells; i++) {\n",
       "        var cell = cells[i];\n",
       "        if (cell.cell_type === 'code'){\n",
       "            for (var j=0; j<cell.output_area.outputs.length; j++) {\n",
       "                var data = cell.output_area.outputs[j];\n",
       "                if (data.data) {\n",
       "                    // IPython >= 3 moved mimebundle to data attribute of output\n",
       "                    data = data.data;\n",
       "                }\n",
       "                if (data['text/html'] == html_output) {\n",
       "                    return [cell, data, j];\n",
       "                }\n",
       "            }\n",
       "        }\n",
       "    }\n",
       "}\n",
       "\n",
       "// Register the function which deals with the matplotlib target/channel.\n",
       "// The kernel may be null if the page has been refreshed.\n",
       "if (IPython.notebook.kernel != null) {\n",
       "    IPython.notebook.kernel.comm_manager.register_target('matplotlib', mpl.mpl_figure_comm);\n",
       "}\n"
      ],
      "text/plain": [
       "<IPython.core.display.Javascript object>"
      ]
     },
     "metadata": {},
     "output_type": "display_data"
    },
    {
     "data": {
      "text/html": [
       "<img src=\"data:image/png;base64,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\">"
      ],
      "text/plain": [
       "<IPython.core.display.HTML object>"
      ]
     },
     "metadata": {},
     "output_type": "display_data"
    }
   ],
   "source": [
    "# your code he\n",
    "interesting_columns = traindf.drop('count', axis=1).columns\n",
    "fig, ax = plt.subplots(1,1, figsize=(10,10))\n",
    "sns.heatmap(np.corrcoef(traindf.drop('count', axis=1).T),ax=ax)\n",
    "ax.set_xticklabels(interesting_columns, rotation='vertical')\n",
    "ax.set_yticklabels(interesting_columns[::-1], rotation='horizontal')\n",
    "plt.show()"
   ]
  },
  {
   "cell_type": "markdown",
   "metadata": {},
   "source": [
    "There so many collinear predictors for ex: (Workingday,temp)(month_12.0,season_2.0)(day_of_week_1.0,temp/atemp)(day_of_week_4.0,Weather_2.0) and so many"
   ]
  },
  {
   "cell_type": "markdown",
   "metadata": {},
   "source": [
    "## Part (d): Subset Selection\n",
    "\n",
    "Apply either one of the following subset selection methods discussed in class to choose a minimal subset of predictors that are related to the response variable:\n",
    "- Step-wise forward selection\n",
    "- Step-wise backward selection\n",
    "\n",
    "We require you to implement both these methods *from scratch*. You may use the Bayesian Information Criterion (BIC) to choose the subset size in each method. Do these methods eliminate one or more of the redundant predictors (if any) identified in Part (c)? In each case, fit linear regression models using the identified subset of predictors to the training set. How do the test $R^2$ scores for the fitted models compare with the model fitted in Part (b) using all predictors?\n",
    "\n",
    "\n"
   ]
  },
  {
   "cell_type": "code",
   "execution_count": 27,
   "metadata": {
    "collapsed": true
   },
   "outputs": [],
   "source": [
    "# your code here\n",
    "def forward_selection(df,output_col):\n",
    "    y_train = df[output_col].values.reshape(-1,1)\n",
    "    predictors = set(df.drop('count', axis=1).columns)\n",
    "    selected_predictors = set()\n",
    "    n = df.shape[0]\n",
    "    best_bic = np.inf\n",
    "    best_bics = []\n",
    "    best_models = []\n",
    "    X = np.ones(n).reshape(-1,1)\n",
    "    X = np.concatenate([X, df[list(selected_predictors)].values], axis=1)\n",
    "    while (True):\n",
    "        possible_bic_scores = []\n",
    "        possible_predictors = list(selected_predictors ^ predictors)\n",
    "        if len(possible_predictors) == 0:\n",
    "            break    \n",
    "        for predictor in possible_predictors: \n",
    "            x_temp = np.concatenate([X, df[predictor].values.reshape(-1,1)], axis=1)\n",
    "            model = OLS(y_train,x_temp).fit()\n",
    "            bic = model.bic\n",
    "            possible_bic_scores.append(bic)      \n",
    "        best_predictor_ix = np.argmin(possible_bic_scores)\n",
    "        best_predictor = possible_predictors[best_predictor_ix]   \n",
    "        best_bic = np.min(possible_bic_scores)\n",
    "        best_bics.append(best_bic)\n",
    "        selected_predictors.add(best_predictor)            \n",
    "        X = np.concatenate([X, df[best_predictor].values.reshape(-1,1)], axis=1)\n",
    "        best_models.append(list(selected_predictors))\n",
    "    index_of_best_bic = np.argmin(best_bics)\n",
    "    return best_models[index_of_best_bic]\n",
    "    "
   ]
  },
  {
   "cell_type": "code",
   "execution_count": 34,
   "metadata": {
    "collapsed": false
   },
   "outputs": [
    {
     "data": {
      "text/plain": [
       "['season_4.0',\n",
       " 'windspeed',\n",
       " 'humidity',\n",
       " 'atemp',\n",
       " 'month_9.0',\n",
       " 'weather_3.0',\n",
       " 'season_2.0']"
      ]
     },
     "execution_count": 34,
     "metadata": {},
     "output_type": "execute_result"
    }
   ],
   "source": [
    "forward_pred = forward_selection(traindf,'count')\n",
    "forward_pred"
   ]
  },
  {
   "cell_type": "code",
   "execution_count": 35,
   "metadata": {
    "collapsed": true
   },
   "outputs": [],
   "source": [
    "def backward_selection(df,output_col):\n",
    "    y_train = df[output_col].values.reshape(-1,1)\n",
    "    predictors = set(df.drop('count', axis=1).columns)\n",
    "    selected_predictors = set(predictors)\n",
    "    n = df.shape[0]\n",
    "    best_bic = np.inf \n",
    "    best_bics = []\n",
    "    best_models = []\n",
    "    while True:\n",
    "        possible_bic_scores = []\n",
    "        possible_predictors = list(selected_predictors)\n",
    "        if len(possible_predictors) == 0:\n",
    "            break\n",
    "        for predictor in possible_predictors:\n",
    "            X = np.concatenate([np.ones(n).reshape(-1,1), df[list(selected_predictors - set([predictor]))].values], axis=1)\n",
    "            model = OLS(y_train,X).fit()\n",
    "            bic = model.bic\n",
    "            possible_bic_scores.append(bic)\n",
    "        best_predictor_ix = np.argmin(possible_bic_scores)\n",
    "        best_predictor = possible_predictors[best_predictor_ix] \n",
    "        best_bic = possible_bic_scores[best_predictor_ix]\n",
    "        selected_predictors.discard(best_predictor) \n",
    "        best_bics.append(best_bic)\n",
    "        best_models.append(list(selected_predictors))\n",
    "    index_of_best_bic = np.argmin(best_bics)\n",
    "    return best_models[index_of_best_bic]"
   ]
  },
  {
   "cell_type": "code",
   "execution_count": 36,
   "metadata": {
    "collapsed": false
   },
   "outputs": [
    {
     "data": {
      "text/plain": [
       "['humidity',\n",
       " 'windspeed',\n",
       " 'season_3.0',\n",
       " 'month_7.0',\n",
       " 'season_4.0',\n",
       " 'weather_3.0',\n",
       " 'month_8.0',\n",
       " 'temp',\n",
       " 'month_6.0',\n",
       " 'season_2.0']"
      ]
     },
     "execution_count": 36,
     "metadata": {},
     "output_type": "execute_result"
    }
   ],
   "source": [
    "backward_pred = backward_selection(traindf,'count')\n",
    "backward_pred"
   ]
  },
  {
   "cell_type": "code",
   "execution_count": 40,
   "metadata": {
    "collapsed": false
   },
   "outputs": [],
   "source": [
    "from sklearn.feature_selection import RFE\n",
    "from sklearn.linear_model import LinearRegression"
   ]
  },
  {
   "cell_type": "code",
   "execution_count": 42,
   "metadata": {
    "collapsed": false
   },
   "outputs": [
    {
     "data": {
      "text/plain": [
       "RFE(estimator=LinearRegression(copy_X=True, fit_intercept=True, n_jobs=1, normalize=False),\n",
       "  n_features_to_select=5, step=1, verbose=0)"
      ]
     },
     "execution_count": 42,
     "metadata": {},
     "output_type": "execute_result"
    }
   ],
   "source": [
    "reg_lin = LinearRegression()#.\n",
    "rfe = RFE(estimator=reg_lin, n_features_to_select=5, step=1)\n",
    "rfe.fit(traindf.drop('count',axis =1),traindf['count'])"
   ]
  },
  {
   "cell_type": "code",
   "execution_count": 54,
   "metadata": {
    "collapsed": false
   },
   "outputs": [
    {
     "data": {
      "text/plain": [
       "Index([u'holiday', u'workingday', u'temp', u'atemp', u'humidity', u'windspeed',\n",
       "       u'season_2.0', u'season_3.0', u'season_4.0', u'month_2.0', u'month_3.0',\n",
       "       u'month_4.0', u'month_5.0', u'month_6.0', u'month_7.0', u'month_8.0',\n",
       "       u'month_9.0', u'month_10.0', u'month_11.0', u'month_12.0',\n",
       "       u'day_of_week_1.0', u'day_of_week_2.0', u'day_of_week_3.0',\n",
       "       u'day_of_week_4.0', u'day_of_week_5.0', u'day_of_week_6.0',\n",
       "       u'weather_2.0', u'weather_3.0'],\n",
       "      dtype='object')"
      ]
     },
     "execution_count": 54,
     "metadata": {},
     "output_type": "execute_result"
    }
   ],
   "source": [
    "traindf.drop('count',axis =1).columns"
   ]
  },
  {
   "cell_type": "code",
   "execution_count": 53,
   "metadata": {
    "collapsed": false
   },
   "outputs": [
    {
     "data": {
      "text/plain": [
       "array([ 2,  1,  8, 13, 12, 18,  6,  5,  7, 21, 19, 17, 23, 11,  9, 10, 16,\n",
       "       15, 20, 22,  1,  1,  1,  3,  4, 14, 24,  1])"
      ]
     },
     "execution_count": 53,
     "metadata": {},
     "output_type": "execute_result"
    }
   ],
   "source": [
    "rfe.ranking_"
   ]
  },
  {
   "cell_type": "code",
   "execution_count": 55,
   "metadata": {
    "collapsed": false
   },
   "outputs": [
    {
     "data": {
      "text/plain": [
       "[(2, 'holiday'),\n",
       " (1, 'workingday'),\n",
       " (8, 'temp'),\n",
       " (13, 'atemp'),\n",
       " (12, 'humidity'),\n",
       " (18, 'windspeed'),\n",
       " (6, 'season_2.0'),\n",
       " (5, 'season_3.0'),\n",
       " (7, 'season_4.0'),\n",
       " (21, 'month_2.0'),\n",
       " (19, 'month_3.0'),\n",
       " (17, 'month_4.0'),\n",
       " (23, 'month_5.0'),\n",
       " (11, 'month_6.0'),\n",
       " (9, 'month_7.0'),\n",
       " (10, 'month_8.0'),\n",
       " (16, 'month_9.0'),\n",
       " (15, 'month_10.0'),\n",
       " (20, 'month_11.0'),\n",
       " (22, 'month_12.0'),\n",
       " (1, 'day_of_week_1.0'),\n",
       " (1, 'day_of_week_2.0'),\n",
       " (1, 'day_of_week_3.0'),\n",
       " (3, 'day_of_week_4.0'),\n",
       " (4, 'day_of_week_5.0'),\n",
       " (14, 'day_of_week_6.0'),\n",
       " (24, 'weather_2.0'),\n",
       " (1, 'weather_3.0')]"
      ]
     },
     "execution_count": 55,
     "metadata": {},
     "output_type": "execute_result"
    }
   ],
   "source": [
    "zip(rfe.ranking_,traindf.drop('count',axis =1).columns)"
   ]
  },
  {
   "cell_type": "code",
   "execution_count": 59,
   "metadata": {
    "collapsed": false
   },
   "outputs": [
    {
     "name": "stdout",
     "output_type": "stream",
     "text": [
      "train r2 =  0.532513398328\n",
      "test r2 =  0.27579228429\n"
     ]
    }
   ],
   "source": [
    "X_train_forward = sm.add_constant(traindf[forward_pred])\n",
    "X_test_forward = sm.add_constant(testdf[forward_pred])\n",
    "y_train = traindf['count'].values.reshape(-1,1)\n",
    "model = OLS(y_train, X_train_forward)\n",
    "result = model.fit()\n",
    "y_pred_train = result.predict()\n",
    "y_pred_test = result.predict(X_test_forward)\n",
    "print'train r2 = ', r2_score(traindf['count'], y_pred_train)\n",
    "print 'test r2 = ', r2_score(testdf['count'], y_pred_test)"
   ]
  },
  {
   "cell_type": "code",
   "execution_count": 60,
   "metadata": {
    "collapsed": false
   },
   "outputs": [
    {
     "name": "stdout",
     "output_type": "stream",
     "text": [
      "train r2 =  0.556442132115\n",
      "test r2 =  0.270481135658\n"
     ]
    }
   ],
   "source": [
    "X_train_backward = sm.add_constant(traindf[backward_pred])\n",
    "X_test_backward = sm.add_constant(testdf[backward_pred])\n",
    "model = OLS(y_train, X_train_backward)\n",
    "result = model.fit()\n",
    "y_pred_train = result.predict()\n",
    "y_pred_test = result.predict(X_test_backward)\n",
    "print'train r2 = ', r2_score(traindf['count'], y_pred_train)\n",
    "print 'test r2 = ', r2_score(testdf['count'], y_pred_test)"
   ]
  },
  {
   "cell_type": "markdown",
   "metadata": {},
   "source": [
    "your answers here"
   ]
  },
  {
   "cell_type": "markdown",
   "metadata": {},
   "source": [
    "## Part (e): Cross Validation\n",
    "\n",
    "- Perform a 10-fold cross-validation procedure to select between the 3 competing models you have so far: the model with the best BIC from Step-wise forward selection, the model with the best BIC from Step-wise backward selection (if it is different), and the model with all possible predictors.  Report the average $R^2$ across all 10 validation sets for each model and compare the results.  Why do you think this is the case?\n",
    "- Evaluate each of the 3 models on the provided left out test set by calculating $R^2$.  Do the results agree with the cross-validation?  Why or why not?"
   ]
  },
  {
   "cell_type": "code",
   "execution_count": 63,
   "metadata": {
    "collapsed": false
   },
   "outputs": [
    {
     "data": {
      "text/plain": [
       "array([ 0.34257855,  0.46033274,  0.4402681 ])"
      ]
     },
     "execution_count": 63,
     "metadata": {},
     "output_type": "execute_result"
    }
   ],
   "source": [
    "# your code here\n",
    "from sklearn.cross_validation import KFold\n",
    "n = traindf.shape[0]\n",
    "scores = []\n",
    "for f_train, f_test in KFold(n, n_folds=10, shuffle=False, random_state=11):\n",
    "    mini_train = traindf.iloc[f_train]\n",
    "    mini_test = traindf.iloc[f_test]\n",
    "    score = []\n",
    "    for model in [traindf.drop('count', axis=1).columns, list(backward_pred), list(forward_pred)]:    \n",
    "        X_train = sm.add_constant(mini_train[model])\n",
    "        X_test = sm.add_constant(mini_test[model], has_constant='add') #small number of training example   \n",
    "        y_train = mini_train['count'].values.reshape(-1,1)\n",
    "        y_test = mini_test['count'].values.reshape(-1,1)\n",
    "        model = OLS(y_train,X_train)\n",
    "        result = model.fit()\n",
    "        y_pred_train = result.predict()\n",
    "        y_pred_test = result.predict(X_test)      \n",
    "        score.append(r2_score(y_test, y_pred_test))                   \n",
    "    scores.append(score)   \n",
    "scores = np.array(scores)\n",
    "np.mean(scores, axis=0)"
   ]
  },
  {
   "cell_type": "markdown",
   "metadata": {},
   "source": [
    "your answers here"
   ]
  },
  {
   "cell_type": "code",
   "execution_count": null,
   "metadata": {
    "collapsed": true
   },
   "outputs": [],
   "source": []
  }
 ],
 "metadata": {
  "anaconda-cloud": {},
  "kernelspec": {
   "display_name": "Python [Root]",
   "language": "python",
   "name": "Python [Root]"
  },
  "language_info": {
   "codemirror_mode": {
    "name": "ipython",
    "version": 2
   },
   "file_extension": ".py",
   "mimetype": "text/x-python",
   "name": "python",
   "nbconvert_exporter": "python",
   "pygments_lexer": "ipython2",
   "version": "2.7.11"
  }
 },
 "nbformat": 4,
 "nbformat_minor": 1
}
